{
 "cells": [
  {
   "cell_type": "code",
   "execution_count": 18,
   "id": "272f0134",
   "metadata": {},
   "outputs": [],
   "source": [
    "import sys\n",
    "import os\n",
    "\n",
    "sys.path.append(os.path.abspath('..'))\n",
    "\n",
    "from modules.adaptive.filters.rule_based import RuleBasedRecommender\n",
    "from modules.adaptive.filters.collaborative import CollaborativeFiltering\n",
    "from modules.adaptive.filters.content_based import ContentBasedFiltering\n",
    "from pipeline import Pipeline"
   ]
  },
  {
   "cell_type": "code",
   "execution_count": 19,
   "id": "4bd85bfb",
   "metadata": {},
   "outputs": [],
   "source": [
    "pipeline = Pipeline(\n",
    "    ratings_path='../storage/u.data',\n",
    "    items_path='../storage/u.item',\n",
    "    users_path='../storage/u.user'\n",
    ")\n",
    "pipeline.load_dataset()"
   ]
  },
  {
   "cell_type": "code",
   "execution_count": 20,
   "id": "df58993c",
   "metadata": {},
   "outputs": [
    {
     "name": "stdout",
     "output_type": "stream",
     "text": [
      "Top Movies Overall:\n",
      "   item_id  rating                                              title\n",
      "0      814     5.0                      Great Day in Harlem, A (1994)\n",
      "1     1599     5.0                      Someone Else's America (1995)\n",
      "2     1201     5.0         Marlene Dietrich: Shadow and Light (1996) \n",
      "3     1122     5.0                     They Made Me a Criminal (1939)\n",
      "4     1653     5.0  Entertaining Angels: The Dorothy Day Story (1996)\n",
      "5     1293     5.0                                    Star Kid (1997)\n",
      "6     1500     5.0                          Santa with Muscles (1996)\n",
      "7     1189     5.0                                 Prefontaine (1997)\n",
      "8     1536     5.0                               Aiqing wansui (1994)\n",
      "9     1467     5.0               Saint of Fort Washington, The (1993)\n",
      "Top Movies in Genre: Drama\n",
      "   item_id    rating                                              title\n",
      "0     1122  5.000000                     They Made Me a Criminal (1939)\n",
      "1     1536  5.000000                               Aiqing wansui (1994)\n",
      "2     1467  5.000000               Saint of Fort Washington, The (1993)\n",
      "3     1599  5.000000                      Someone Else's America (1995)\n",
      "4     1189  5.000000                                 Prefontaine (1997)\n",
      "5     1653  5.000000  Entertaining Angels: The Dorothy Day Story (1996)\n",
      "6     1449  4.625000                             Pather Panchali (1955)\n",
      "7     1642  4.500000                           Some Mother's Son (1996)\n",
      "8     1398  4.500000                                        Anna (1996)\n",
      "9      318  4.466443                            Schindler's List (1993)\n"
     ]
    }
   ],
   "source": [
    "rule_recommender = RuleBasedRecommender(pipeline.ratings_df, pipeline.items_df)\n",
    "\n",
    "print(\"Top Movies Overall:\")\n",
    "print(rule_recommender.recommend_top_movies(n=10))\n",
    "\n",
    "genre = \"Drama\"\n",
    "print(f\"Top Movies in Genre: {genre}\")\n",
    "print(rule_recommender.recommend_by_genre(genre=genre, n=10))"
   ]
  },
  {
   "cell_type": "code",
   "execution_count": 21,
   "id": "e89acc22",
   "metadata": {},
   "outputs": [],
   "source": [
    "ratings_file = '../storage/u.data'\n",
    "metadata_file = '../storage/u.item'"
   ]
  },
  {
   "cell_type": "code",
   "execution_count": 22,
   "id": "53514a13",
   "metadata": {},
   "outputs": [
    {
     "name": "stdout",
     "output_type": "stream",
     "text": [
      "RMSE: 0.9384\n",
      "Collaborative Filtering RMSE: 0.9383590945877811\n"
     ]
    }
   ],
   "source": [
    "cf_recommender = CollaborativeFiltering(\n",
    "    ratings_file=ratings_file, metadata_file=metadata_file\n",
    ")\n",
    "cf_recommender.fit()\n",
    "print(\"Collaborative Filtering RMSE:\", cf_recommender.evaluate())"
   ]
  },
  {
   "cell_type": "code",
   "execution_count": 23,
   "id": "3b4bfae5",
   "metadata": {},
   "outputs": [
    {
     "name": "stdout",
     "output_type": "stream",
     "text": [
      "Content-Based Filtering RMSE: 1.7903511577811684\n"
     ]
    }
   ],
   "source": [
    "cb_recommender = ContentBasedFiltering(ratings_file, metadata_file)\n",
    "print(\"Content-Based Filtering RMSE:\", cb_recommender.evaluate())"
   ]
  },
  {
   "cell_type": "code",
   "execution_count": 24,
   "id": "87db2c4a",
   "metadata": {},
   "outputs": [],
   "source": [
    "pipeline = Pipeline(\n",
    "    ratings_path='../storage/u.data',\n",
    "    items_path='../storage/u.item',\n",
    "    users_path='../storage/u.user'\n",
    ")\n",
    "pipeline.load_dataset()\n",
    "_, test_df = pipeline.partition_data(partition_type='user_stratified')"
   ]
  },
  {
   "cell_type": "code",
   "execution_count": 27,
   "id": "ec62d3af",
   "metadata": {},
   "outputs": [],
   "source": [
    "import numpy as np\n",
    "\n",
    "def calculate_ndcg(recommended_items, relevant_items):\n",
    "    dcg = 0\n",
    "    for i, item in enumerate(recommended_items, start=1):\n",
    "        if item in relevant_items:\n",
    "            dcg += 1 / (np.log2(i + 1))\n",
    "\n",
    "    ideal_dcg = sum(1 / (np.log2(i + 1)) for i in range(1, len(relevant_items) + 1))\n",
    "    return dcg / ideal_dcg if ideal_dcg > 0 else 0.0"
   ]
  },
  {
   "cell_type": "code",
   "execution_count": 32,
   "id": "abe76441",
   "metadata": {},
   "outputs": [
    {
     "name": "stdout",
     "output_type": "stream",
     "text": [
      "Rule-Based Evaluation:\n",
      "Precision@10: 0.4\n",
      "Recall@10: 0.0036798528058877645\n",
      "nDCG@10: 0.011905846305130936\n"
     ]
    }
   ],
   "source": [
    "n = 10\n",
    "user_precision_list = []\n",
    "user_recall_list = []\n",
    "user_ndcg_list = []\n",
    "\n",
    "for user_id in test_df['user_id'].unique():\n",
    "    relevant_items = set(\n",
    "        test_df[(test_df['user_id'] == user_id) & (test_df['rating'] >= 4)]['item_id']\n",
    "    )\n",
    "    \n",
    "    if not relevant_items:\n",
    "        continue\n",
    "\n",
    "    top_movies = rule_recommender.recommend_top_movies(n=n)['item_id'].tolist()\n",
    "\n",
    "    precision = len([item for item in top_movies if item in relevant_items]) / n\n",
    "    recall = len([item for item in top_movies if item in relevant_items]) / len(relevant_items)\n",
    "    ndcg = calculate_ndcg(top_movies, relevant_items)\n",
    "\n",
    "    user_precision_list.append(precision)\n",
    "    user_recall_list.append(recall)\n",
    "    user_ndcg_list.append(ndcg)\n",
    "\n",
    "# Aggregate user-specific metrics\n",
    "rule_precision = np.mean(user_precision_list)\n",
    "rule_recall = np.mean(user_recall_list)\n",
    "rule_ndcg = np.mean(user_ndcg_list)\n",
    "\n",
    "print(\"Rule-Based Evaluation (User-Level):\")\n",
    "print(f\"Average Precision@{n}: {rule_precision}\")\n",
    "print(f\"Average Recall@{n}: {rule_recall}\")\n",
    "print(f\"Average nDCG@{n}: {rule_ndcg}\")"
   ]
  },
  {
   "cell_type": "code",
   "execution_count": 33,
   "id": "6d63b229",
   "metadata": {},
   "outputs": [
    {
     "name": "stdout",
     "output_type": "stream",
     "text": [
      "Collaborative Filtering Evaluation:\n",
      "Average Precision@10: 0.3380952380952381\n",
      "Average Recall@10: 0.06583799998481352\n",
      "Average nDCG@10: 0.11219658274849809\n"
     ]
    }
   ],
   "source": [
    "n = 10\n",
    "cf_precision, cf_recall, cf_ndcg = [], [], []\n",
    "\n",
    "for user_id in test_df['user_id'].unique():\n",
    "    item_scores = [\n",
    "        (item_id, cf_recommender.predict(user_id, item_id))\n",
    "        for item_id in test_df['item_id'].unique()\n",
    "    ]\n",
    "    top_items = [item for item, _ in sorted(item_scores, key=lambda x: x[1], reverse=True)[:n]]\n",
    "    relevant_items = set(test_df[(test_df['user_id'] == user_id) & (test_df['rating'] >= 4)]['item_id'])\n",
    "\n",
    "    precision = len([item for item in top_items if item in relevant_items]) / n\n",
    "    recall = len([item for item in top_items if item in relevant_items]) / len(relevant_items) if relevant_items else 0\n",
    "    ndcg = calculate_ndcg(top_items, relevant_items)\n",
    "\n",
    "    cf_precision.append(precision)\n",
    "    cf_recall.append(recall)\n",
    "    cf_ndcg.append(ndcg)\n",
    "\n",
    "print(\"Collaborative Filtering Evaluation:\")\n",
    "print(f\"Average Precision@{n}: {np.mean(cf_precision)}\")\n",
    "print(f\"Average Recall@{n}: {np.mean(cf_recall)}\")\n",
    "print(f\"Average nDCG@{n}: {np.mean(cf_ndcg)}\")"
   ]
  },
  {
   "cell_type": "code",
   "execution_count": 34,
   "id": "2a6e61d0",
   "metadata": {},
   "outputs": [
    {
     "name": "stdout",
     "output_type": "stream",
     "text": [
      "Content-Based Filtering Evaluation:\n",
      "Average Precision@10: 0.11322751322751322\n",
      "Average Recall@10: 0.02298696361241716\n",
      "Average nDCG@10: 0.04146808075971509\n"
     ]
    }
   ],
   "source": [
    "n = 10\n",
    "cb_precision, cb_recall, cb_ndcg = [], [], []\n",
    "\n",
    "for user_id in test_df['user_id'].unique():\n",
    "    user_profile = cb_recommender._get_user_profile(user_id)\n",
    "    item_scores = cb_recommender.item_profiles.dot(user_profile)\n",
    "    top_items = item_scores.nlargest(n).index.tolist()\n",
    "    relevant_items = set(test_df[(test_df['user_id'] == user_id) & (test_df['rating'] >= 4)]['item_id'])\n",
    "\n",
    "    precision = len([item for item in top_items if item in relevant_items]) / n\n",
    "    recall = len([item for item in top_items if item in relevant_items]) / len(relevant_items) if relevant_items else 0\n",
    "    ndcg = calculate_ndcg(top_items, relevant_items)\n",
    "\n",
    "    cb_precision.append(precision)\n",
    "    cb_recall.append(recall)\n",
    "    cb_ndcg.append(ndcg)\n",
    "\n",
    "print(\"Content-Based Filtering Evaluation:\")\n",
    "print(f\"Average Precision@{n}: {np.mean(cb_precision)}\")\n",
    "print(f\"Average Recall@{n}: {np.mean(cb_recall)}\")\n",
    "print(f\"Average nDCG@{n}: {np.mean(cb_ndcg)}\")"
   ]
  },
  {
   "cell_type": "code",
   "execution_count": 40,
   "id": "1df35c0c",
   "metadata": {},
   "outputs": [
    {
     "name": "stdout",
     "output_type": "stream",
     "text": [
      "0.4\n",
      "Precision Scores: [0.4, [0.0, 0.6, 0.6, 0.9, 1.0, 0.0, 0.3, 0.8, 0.1, 0.3, 0.0, 0.7, 0.4, 0.7, 0.0, 0.6, 0.3, 0.3, 0.6, 0.5, 0.0, 0.6, 0.6, 0.4, 0.2, 0.6, 0.1, 0.0, 0.1, 0.5, 0.6, 0.3, 0.0, 0.6, 0.0, 0.2, 0.0, 0.0, 0.0, 0.1, 0.9, 0.2, 0.1, 0.1, 0.2, 0.0, 0.3, 0.8, 0.6, 0.1, 0.1, 0.0, 0.5, 0.0, 0.2, 0.0, 0.0, 0.1, 0.0, 0.0, 0.5, 0.8, 0.5, 0.3, 0.0, 0.0, 0.1, 0.3, 0.7, 0.0, 0.2, 0.0, 0.4, 0.1, 0.8, 0.7, 0.4, 1.0, 0.3, 0.2, 0.7, 0.2, 0.5, 0.2, 0.0, 0.7, 0.3, 0.4, 0.9, 0.9, 0.2, 0.5, 0.5, 0.6, 0.3, 0.1, 0.6, 0.6, 0.3, 0.3, 0.1, 0.8, 0.0, 0.1, 0.8, 1.0, 0.5, 0.3, 0.3, 0.6, 0.0, 0.0, 0.5, 0.3, 0.3, 0.7, 0.0, 0.3, 0.2, 0.0, 0.1, 0.7, 0.3, 1.0, 0.0, 0.1, 0.7, 0.0, 0.4, 0.6, 0.2, 0.4, 0.0, 0.8, 0.7, 0.0, 0.7, 0.6, 0.2, 0.3, 0.5, 0.0, 0.2, 0.0, 0.0, 0.2, 0.2, 0.0, 0.6, 0.5, 0.2, 0.1, 0.0, 0.7, 0.2, 0.4, 0.2, 0.2, 0.3, 0.6, 0.0, 0.0, 0.0, 0.8, 0.0, 0.7, 0.3, 0.9, 0.3, 0.5, 0.2, 0.9, 0.0, 0.4, 0.3, 0.8, 0.6, 0.3, 0.7, 0.0, 0.5, 0.4, 0.3, 0.6, 0.4, 0.2, 0.0, 0.1, 0.1], [0.0, 0.5, 0.2, 0.5, 0.2, 0.1, 0.1, 0.2, 0.1, 0.0, 0.1, 0.1, 0.1, 0.1, 0.0, 0.4, 0.2, 0.1, 0.2, 0.0, 0.0, 0.3, 0.7, 0.0, 0.0, 0.1, 0.0, 0.0, 0.0, 0.3, 0.2, 0.4, 0.0, 0.0, 0.0, 0.0, 0.2, 0.0, 0.1, 0.1, 0.3, 0.2, 0.0, 0.0, 0.2, 0.0, 0.0, 0.2, 0.0, 0.0, 0.0, 0.0, 0.1, 0.0, 0.0, 0.1, 0.1, 0.0, 0.1, 0.1, 0.3, 0.2, 0.2, 0.0, 0.0, 0.0, 0.3, 0.1, 0.0, 0.0, 0.0, 0.1, 0.4, 0.0, 0.3, 0.2, 0.1, 0.2, 0.1, 0.0, 0.0, 0.2, 0.0, 0.1, 0.0, 0.4, 0.1, 0.2, 0.5, 0.1, 0.0, 0.2, 0.0, 0.3, 0.0, 0.0, 0.1, 0.2, 0.0, 0.1, 0.0, 0.1, 0.0, 0.1, 0.1, 0.3, 0.3, 0.1, 0.1, 0.5, 0.1, 0.0, 0.0, 0.0, 0.0, 0.1, 0.2, 0.1, 0.0, 0.0, 0.0, 0.1, 0.1, 0.1, 0.0, 0.0, 0.4, 0.0, 0.0, 0.2, 0.0, 0.1, 0.0, 0.1, 0.1, 0.0, 0.0, 0.0, 0.1, 0.4, 0.2, 0.1, 0.0, 0.0, 0.0, 0.0, 0.1, 0.1, 0.1, 0.1, 0.0, 0.0, 0.1, 0.0, 0.1, 0.1, 0.4, 0.0, 0.1, 0.3, 0.0, 0.0, 0.1, 0.3, 0.0, 0.5, 0.2, 0.0, 0.0, 0.1, 0.1, 0.1, 0.1, 0.0, 0.0, 0.4, 0.2, 0.0, 0.2, 0.2, 0.5, 0.2, 0.0, 0.4, 0.0, 0.0, 0.0, 0.0, 0.2]]\n",
      "Recall Scores: [0.0036798528058877645, [0.0, 0.036585365853658534, 0.06, 0.035856573705179286, 0.038910505836575876, 0.0, 0.0625, 0.029197080291970802, 0.02040816326530612, 0.06382978723404255, 0.0, 0.05384615384615385, 0.0851063829787234, 0.056, 0.0, 0.07142857142857142, 0.07317073170731707, 0.05555555555555555, 0.13636363636363635, 0.3333333333333333, 0.0, 0.06593406593406594, 0.08695652173913043, 0.07142857142857142, 0.10526315789473684, 0.15789473684210525, 0.07142857142857142, 0.0, 0.05, 0.07936507936507936, 0.049586776859504134, 0.07894736842105263, 0.0, 0.13953488372093023, 0.0, 0.07407407407407407, 0.0, 0.0, 0.0, 0.047619047619047616, 0.04568527918781726, 0.06896551724137931, 0.01818181818181818, 0.0625, 0.09090909090909091, 0.0, 0.05454545454545454, 0.0446927374301676, 0.25, 0.05555555555555555, 0.07142857142857142, 0.0, 0.20833333333333334, 0.0, 0.13333333333333333, 0.0, 0.0, 0.05263157894736842, 0.0, 0.0, 0.034482758620689655, 0.064, 0.03546099290780142, 0.15789473684210525, 0.0, 0.0, 0.041666666666666664, 0.1111111111111111, 0.0958904109589041, 0.0, 0.05, 0.0, 0.047619047619047616, 0.09090909090909091, 0.04938271604938271, 0.11290322580645161, 0.11428571428571428, 0.08620689655172414, 0.0967741935483871, 0.2222222222222222, 0.1044776119402985, 0.05555555555555555, 0.07042253521126761, 0.05128205128205128, 0.0, 0.046052631578947366, 0.1875, 0.08, 0.023809523809523808, 0.08181818181818182, 0.09090909090909091, 0.04854368932038835, 0.11904761904761904, 0.10344827586206896, 0.06818181818181818, 0.07692307692307693, 0.1016949152542373, 0.05405405405405406, 0.05555555555555555, 0.05357142857142857, 0.011363636363636364, 0.046511627906976744, 0.0, 0.058823529411764705, 0.08791208791208792, 0.06896551724137931, 0.03205128205128205, 0.04285714285714286, 0.07317073170731707, 0.05454545454545454, 0.0, 0.0, 0.11627906976744186, 0.07692307692307693, 0.08823529411764706, 0.05, 0.0, 0.061224489795918366, 0.18181818181818182, 0.0, 0.041666666666666664, 0.040229885057471264, 0.1111111111111111, 0.10989010989010989, 0.0, 0.04, 0.06086956521739131, 0.0, 0.05063291139240506, 0.11764705882352941, 0.2222222222222222, 0.041666666666666664, 0.0, 0.09195402298850575, 0.1320754716981132, 0.0, 0.1076923076923077, 0.1016949152542373, 0.0625, 0.046153846153846156, 0.09433962264150944, 0.0, 0.041666666666666664, 0.0, 0.0, 0.10526315789473684, 0.125, 0.0, 0.2608695652173913, 0.11363636363636363, 0.045454545454545456, 0.08333333333333333, 0.0, 0.14285714285714285, 0.1111111111111111, 0.05970149253731343, 0.07407407407407407, 0.11764705882352941, 0.08571428571428572, 0.21428571428571427, 0.0, 0.0, 0.0, 0.05755395683453238, 0.0, 0.1044776119402985, 0.041666666666666664, 0.08653846153846154, 0.05555555555555555, 0.04672897196261682, 0.08695652173913043, 0.0967741935483871, 0.0, 0.08333333333333333, 0.17647058823529413, 0.04597701149425287, 0.04918032786885246, 0.06666666666666667, 0.04093567251461988, 0.0, 0.034722222222222224, 0.03305785123966942, 0.23076923076923078, 0.2, 0.0851063829787234, 0.2857142857142857, 0.0, 0.045454545454545456, 0.05555555555555555], [0.0, 0.03048780487804878, 0.02, 0.0199203187250996, 0.007782101167315175, 0.07142857142857142, 0.020833333333333332, 0.0072992700729927005, 0.02040816326530612, 0.0, 0.058823529411764705, 0.007692307692307693, 0.02127659574468085, 0.008, 0.0, 0.047619047619047616, 0.04878048780487805, 0.018518518518518517, 0.045454545454545456, 0.0, 0.0, 0.03296703296703297, 0.10144927536231885, 0.0, 0.0, 0.02631578947368421, 0.0, 0.0, 0.0, 0.047619047619047616, 0.01652892561983471, 0.10526315789473684, 0.0, 0.0, 0.0, 0.0, 0.05263157894736842, 0.0, 0.09090909090909091, 0.047619047619047616, 0.015228426395939087, 0.06896551724137931, 0.0, 0.0, 0.09090909090909091, 0.0, 0.0, 0.0111731843575419, 0.0, 0.0, 0.0, 0.0, 0.041666666666666664, 0.0, 0.0, 0.05, 0.09090909090909091, 0.0, 0.07142857142857142, 0.09090909090909091, 0.020689655172413793, 0.016, 0.014184397163120567, 0.0, 0.0, 0.0, 0.125, 0.037037037037037035, 0.0, 0.0, 0.0, 0.01694915254237288, 0.047619047619047616, 0.0, 0.018518518518518517, 0.03225806451612903, 0.02857142857142857, 0.017241379310344827, 0.03225806451612903, 0.0, 0.0, 0.05555555555555555, 0.0, 0.02564102564102564, 0.0, 0.02631578947368421, 0.0625, 0.04, 0.013227513227513227, 0.00909090909090909, 0.0, 0.019417475728155338, 0.0, 0.05172413793103448, 0.0, 0.0, 0.01694915254237288, 0.018018018018018018, 0.0, 0.017857142857142856, 0.0, 0.005813953488372093, 0.0, 0.058823529411764705, 0.01098901098901099, 0.020689655172413793, 0.019230769230769232, 0.014285714285714285, 0.024390243902439025, 0.045454545454545456, 0.038461538461538464, 0.0, 0.0, 0.0, 0.0, 0.007142857142857143, 0.03076923076923077, 0.02040816326530612, 0.0, 0.0, 0.0, 0.005747126436781609, 0.037037037037037035, 0.01098901098901099, 0.0, 0.0, 0.034782608695652174, 0.0, 0.0, 0.0392156862745098, 0.0, 0.010416666666666666, 0.0, 0.011494252873563218, 0.018867924528301886, 0.0, 0.0, 0.0, 0.03125, 0.06153846153846154, 0.03773584905660377, 0.05, 0.0, 0.0, 0.0, 0.0, 0.0625, 0.125, 0.043478260869565216, 0.022727272727272728, 0.0, 0.0, 0.058823529411764705, 0.0, 0.05555555555555555, 0.014925373134328358, 0.14814814814814814, 0.0, 0.02857142857142857, 0.10714285714285714, 0.0, 0.0, 0.07692307692307693, 0.02158273381294964, 0.0, 0.07462686567164178, 0.027777777777777776, 0.0, 0.0, 0.009345794392523364, 0.043478260869565216, 0.010752688172043012, 0.07142857142857142, 0.0, 0.0, 0.022988505747126436, 0.01639344262295082, 0.0, 0.011695906432748537, 0.08, 0.034722222222222224, 0.01652892561983471, 0.0, 0.13333333333333333, 0.0, 0.0, 0.0, 0.0, 0.1111111111111111]]\n",
      "nDCG Scores: [0.011905846305130936, [0.0, 0.09482939772707515, 0.13090408350559954, 0.1026306943544449, 0.10795356368319889, 0.0, 0.13919846927479715, 0.08750879768734446, 0.03930372270618529, 0.10533605135974353, 0.0, 0.14106918300444668, 0.11041898476585808, 0.12581884869400334, 0.0, 0.16658312309557846, 0.15971559581539965, 0.10639576001401968, 0.2168905787048413, 0.4811982286273682, 0.0, 0.15876878067009964, 0.13470479885633888, 0.12655400069997919, 0.1930929802493286, 0.28600384018719355, 0.051514328895695904, 0.0, 0.1420400396336573, 0.17927574661108156, 0.13061428046919973, 0.11100106489917282, 0.0, 0.25212101798839764, 0.0, 0.11068826433139492, 0.0, 0.0, 0.0, 0.039791360812020615, 0.12323765914371497, 0.09124484631798585, 0.03128400012932409, 0.05459112561892713, 0.12432930234775161, 0.0, 0.07818834893836472, 0.12235921224427669, 0.32077350690704964, 0.07597375654860733, 0.17821029819465137, 0.0, 0.2231788379373673, 0.0, 0.10313834007270505, 0.0, 0.0, 0.1467868763787456, 0.0, 0.0, 0.06814475167032272, 0.15963900837436096, 0.062152075201376965, 0.1454027518919843, 0.0, 0.0, 0.12627825946936164, 0.249228924456102, 0.18486794340604848, 0.0, 0.05611724146983324, 0.0, 0.083081246547419, 0.07386356006695578, 0.10461050069426109, 0.22443042481001196, 0.17543308730416193, 0.19499413039492458, 0.17702535238066158, 0.2266457470416442, 0.22705914084395762, 0.13416750290469964, 0.12802986807451344, 0.12718309263779548, 0.0, 0.1140148002664533, 0.33763622740733124, 0.09782858080885255, 0.07336672510578113, 0.18673794446138442, 0.10511998633522714, 0.11909715659734112, 0.22973972223297662, 0.21950547414765526, 0.12248061274629983, 0.05397642893687311, 0.1469787640739055, 0.1346245322949811, 0.11802806346468575, 0.08406245822300527, 0.01650449790548617, 0.12388793625893806, 0.0, 0.15758427078022966, 0.19688610359799302, 0.16570145139179834, 0.06683355898998854, 0.08890651840579401, 0.12985105851570025, 0.10743980785970056, 0.0, 0.0, 0.24069188488203905, 0.0946523134935879, 0.135772235945277, 0.12061200914261444, 0.0, 0.07438638352315023, 0.15842602998505914, 0.0, 0.048851099168414396, 0.09101040502465128, 0.15066121233077376, 0.23211191664306724, 0.0, 0.052962244777770985, 0.14157642508161317, 0.0, 0.11623863819054989, 0.2402006291667569, 0.19587129117873778, 0.07070550098081181, 0.0, 0.20561183244672382, 0.26802187360373836, 0.0, 0.23431080386402875, 0.21298513242822745, 0.09735292818984866, 0.07903007802509321, 0.16442851022437915, 0.0, 0.060905150792209754, 0.0, 0.0, 0.19097412913856873, 0.14524287901571709, 0.0, 0.38802247145149604, 0.23112396192526186, 0.06460410129912793, 0.059109628562248356, 0.0, 0.24205561197342865, 0.1613084389427417, 0.10087088207833292, 0.15385392026724634, 0.10651398739085809, 0.11168261770532813, 0.34352786598184726, 0.0, 0.0, 0.0, 0.13464746722822857, 0.0, 0.18173500673082585, 0.08280865362363446, 0.16453908257870276, 0.10106970837183135, 0.10879314264293863, 0.08421924414472762, 0.19680884554279734, 0.0, 0.20071196492697052, 0.2973383236976845, 0.12112190589794278, 0.12146489098146987, 0.1571451453865772, 0.1064147851179509, 0.0, 0.09182211393762127, 0.09056913598887908, 0.24601931360746293, 0.26646172805460183, 0.16554633354297527, 0.3576223542196109, 0.0, 0.057534183641244435, 0.05412479622841819], [0.0, 0.07915727681428741, 0.04444773804704801, 0.04855287008448507, 0.026870540932512163, 0.11243817952384734, 0.025148150706405272, 0.032370316342809576, 0.049595776162908764, 0.0, 0.0561326498270945, 0.039505690650984464, 0.05102069414882301, 0.020325488640584335, 0.0, 0.09050248861455369, 0.08253252935374757, 0.024519762859772535, 0.07779404913774739, 0.0, 0.0, 0.06902300079292903, 0.21637972296686822, 0.0, 0.0, 0.05887472794707303, 0.0, 0.0, 0.0, 0.09392346657084186, 0.05365528811982601, 0.1218716949239603, 0.0, 0.0, 0.0, 0.0, 0.1294131102018485, 0.0, 0.08021827351724287, 0.049033875503285806, 0.051241236577776114, 0.14881397568492577, 0.0, 0.0, 0.09774885223043435, 0.0, 0.0, 0.044644034931506336, 0.0, 0.0, 0.0, 0.0, 0.03801354390051703, 0.0, 0.0, 0.044808643601671735, 0.2073612289146658, 0.0, 0.0536466452928127, 0.06242194984105966, 0.04533380768309851, 0.05288814079585547, 0.0342480916343065, 0.0, 0.0, 0.0, 0.24380247535180602, 0.03520781570702453, 0.0, 0.0, 0.0, 0.06921322437021346, 0.09480616246025521, 0.0, 0.04099022223318995, 0.06807014028036851, 0.09857297906382075, 0.033863981558082824, 0.03369782041898502, 0.0, 0.0, 0.1094088862248298, 0.0, 0.035476826497407195, 0.0, 0.09023386585156178, 0.10332949630181452, 0.08768438451261369, 0.04220893916187966, 0.04459571054172412, 0.0, 0.04003336415477598, 0.0, 0.08220127412105806, 0.0, 0.0, 0.06921322437021346, 0.06645819109113256, 0.0, 0.025556341836377245, 0.0, 0.013844153985576745, 0.0, 0.0561326498270945, 0.032231627997231095, 0.03936793216957804, 0.044514840738956604, 0.030733838656411015, 0.08868014202979319, 0.10909457629501094, 0.05162702725569553, 0.0, 0.0, 0.0, 0.0, 0.016116453479003364, 0.03819353087328083, 0.03930372270618529, 0.0, 0.0, 0.0, 0.010053864943570169, 0.04166122040281927, 0.022001508929277852, 0.0, 0.0, 0.1000856846235497, 0.0, 0.0, 0.10199015090731588, 0.0, 0.04917401671025726, 0.0, 0.052744145139308925, 0.03725364202376381, 0.0, 0.0, 0.0, 0.06599807254137072, 0.12412932014520058, 0.0450418663043087, 0.1420400396336573, 0.0, 0.0, 0.0, 0.0, 0.05833725389333616, 0.09785159463516042, 0.08189977426795961, 0.0845592472372003, 0.0, 0.0, 0.0455520698635181, 0.0, 0.15194751309721466, 0.02729385859344783, 0.22788755459024604, 0.0, 0.03511240359718155, 0.24336970171445002, 0.0, 0.0, 0.056210658265822395, 0.07262900032248963, 0.0, 0.13727752061825493, 0.039610867766202464, 0.0, 0.0, 0.013150495120453107, 0.12980807103224343, 0.01945904991571579, 0.06894115413470564, 0.0, 0.0, 0.055878556817295685, 0.027193423528128327, 0.0, 0.02690393304425267, 0.17593676889557894, 0.07199441460674645, 0.034686184268616985, 0.0, 0.1769891312723658, 0.0, 0.0, 0.0, 0.0, 0.195870194580096]]\n"
     ]
    },
    {
     "ename": "ValueError",
     "evalue": "setting an array element with a sequence. The requested array has an inhomogeneous shape after 1 dimensions. The detected shape was (3,) + inhomogeneous part.",
     "output_type": "error",
     "traceback": [
      "\u001b[0;31m---------------------------------------------------------------------------\u001b[0m",
      "\u001b[0;31mValueError\u001b[0m                                Traceback (most recent call last)",
      "Cell \u001b[0;32mIn[40], line 13\u001b[0m\n\u001b[1;32m      9\u001b[0m \u001b[38;5;28mprint\u001b[39m(\u001b[38;5;124m\"\u001b[39m\u001b[38;5;124mnDCG Scores:\u001b[39m\u001b[38;5;124m\"\u001b[39m, ndcg_scores)\n\u001b[1;32m     12\u001b[0m \u001b[38;5;66;03m# Plot Precision@N\u001b[39;00m\n\u001b[0;32m---> 13\u001b[0m plt\u001b[38;5;241m.\u001b[39mbar(models, precision_scores)\n\u001b[1;32m     14\u001b[0m plt\u001b[38;5;241m.\u001b[39mtitle(\u001b[38;5;124mf\u001b[39m\u001b[38;5;124m\"\u001b[39m\u001b[38;5;124mModel Comparison: Precision@\u001b[39m\u001b[38;5;132;01m{\u001b[39;00mn\u001b[38;5;132;01m}\u001b[39;00m\u001b[38;5;124m\"\u001b[39m)\n\u001b[1;32m     15\u001b[0m plt\u001b[38;5;241m.\u001b[39mylabel(\u001b[38;5;124m\"\u001b[39m\u001b[38;5;124mPrecision\u001b[39m\u001b[38;5;124m\"\u001b[39m)\n",
      "File \u001b[0;32m~/anaconda3/lib/python3.11/site-packages/matplotlib/pyplot.py:2439\u001b[0m, in \u001b[0;36mbar\u001b[0;34m(x, height, width, bottom, align, data, **kwargs)\u001b[0m\n\u001b[1;32m   2435\u001b[0m \u001b[38;5;129m@_copy_docstring_and_deprecators\u001b[39m(Axes\u001b[38;5;241m.\u001b[39mbar)\n\u001b[1;32m   2436\u001b[0m \u001b[38;5;28;01mdef\u001b[39;00m \u001b[38;5;21mbar\u001b[39m(\n\u001b[1;32m   2437\u001b[0m         x, height, width\u001b[38;5;241m=\u001b[39m\u001b[38;5;241m0.8\u001b[39m, bottom\u001b[38;5;241m=\u001b[39m\u001b[38;5;28;01mNone\u001b[39;00m, \u001b[38;5;241m*\u001b[39m, align\u001b[38;5;241m=\u001b[39m\u001b[38;5;124m'\u001b[39m\u001b[38;5;124mcenter\u001b[39m\u001b[38;5;124m'\u001b[39m,\n\u001b[1;32m   2438\u001b[0m         data\u001b[38;5;241m=\u001b[39m\u001b[38;5;28;01mNone\u001b[39;00m, \u001b[38;5;241m*\u001b[39m\u001b[38;5;241m*\u001b[39mkwargs):\n\u001b[0;32m-> 2439\u001b[0m     \u001b[38;5;28;01mreturn\u001b[39;00m gca()\u001b[38;5;241m.\u001b[39mbar(\n\u001b[1;32m   2440\u001b[0m         x, height, width\u001b[38;5;241m=\u001b[39mwidth, bottom\u001b[38;5;241m=\u001b[39mbottom, align\u001b[38;5;241m=\u001b[39malign,\n\u001b[1;32m   2441\u001b[0m         \u001b[38;5;241m*\u001b[39m\u001b[38;5;241m*\u001b[39m({\u001b[38;5;124m\"\u001b[39m\u001b[38;5;124mdata\u001b[39m\u001b[38;5;124m\"\u001b[39m: data} \u001b[38;5;28;01mif\u001b[39;00m data \u001b[38;5;129;01mis\u001b[39;00m \u001b[38;5;129;01mnot\u001b[39;00m \u001b[38;5;28;01mNone\u001b[39;00m \u001b[38;5;28;01melse\u001b[39;00m {}), \u001b[38;5;241m*\u001b[39m\u001b[38;5;241m*\u001b[39mkwargs)\n",
      "File \u001b[0;32m~/anaconda3/lib/python3.11/site-packages/matplotlib/__init__.py:1442\u001b[0m, in \u001b[0;36m_preprocess_data.<locals>.inner\u001b[0;34m(ax, data, *args, **kwargs)\u001b[0m\n\u001b[1;32m   1439\u001b[0m \u001b[38;5;129m@functools\u001b[39m\u001b[38;5;241m.\u001b[39mwraps(func)\n\u001b[1;32m   1440\u001b[0m \u001b[38;5;28;01mdef\u001b[39;00m \u001b[38;5;21minner\u001b[39m(ax, \u001b[38;5;241m*\u001b[39margs, data\u001b[38;5;241m=\u001b[39m\u001b[38;5;28;01mNone\u001b[39;00m, \u001b[38;5;241m*\u001b[39m\u001b[38;5;241m*\u001b[39mkwargs):\n\u001b[1;32m   1441\u001b[0m     \u001b[38;5;28;01mif\u001b[39;00m data \u001b[38;5;129;01mis\u001b[39;00m \u001b[38;5;28;01mNone\u001b[39;00m:\n\u001b[0;32m-> 1442\u001b[0m         \u001b[38;5;28;01mreturn\u001b[39;00m func(ax, \u001b[38;5;241m*\u001b[39m\u001b[38;5;28mmap\u001b[39m(sanitize_sequence, args), \u001b[38;5;241m*\u001b[39m\u001b[38;5;241m*\u001b[39mkwargs)\n\u001b[1;32m   1444\u001b[0m     bound \u001b[38;5;241m=\u001b[39m new_sig\u001b[38;5;241m.\u001b[39mbind(ax, \u001b[38;5;241m*\u001b[39margs, \u001b[38;5;241m*\u001b[39m\u001b[38;5;241m*\u001b[39mkwargs)\n\u001b[1;32m   1445\u001b[0m     auto_label \u001b[38;5;241m=\u001b[39m (bound\u001b[38;5;241m.\u001b[39marguments\u001b[38;5;241m.\u001b[39mget(label_namer)\n\u001b[1;32m   1446\u001b[0m                   \u001b[38;5;129;01mor\u001b[39;00m bound\u001b[38;5;241m.\u001b[39mkwargs\u001b[38;5;241m.\u001b[39mget(label_namer))\n",
      "File \u001b[0;32m~/anaconda3/lib/python3.11/site-packages/matplotlib/axes/_axes.py:2417\u001b[0m, in \u001b[0;36mAxes.bar\u001b[0;34m(self, x, height, width, bottom, align, **kwargs)\u001b[0m\n\u001b[1;32m   2414\u001b[0m     \u001b[38;5;28;01mif\u001b[39;00m yerr \u001b[38;5;129;01mis\u001b[39;00m \u001b[38;5;129;01mnot\u001b[39;00m \u001b[38;5;28;01mNone\u001b[39;00m:\n\u001b[1;32m   2415\u001b[0m         yerr \u001b[38;5;241m=\u001b[39m \u001b[38;5;28mself\u001b[39m\u001b[38;5;241m.\u001b[39m_convert_dx(yerr, y0, y, \u001b[38;5;28mself\u001b[39m\u001b[38;5;241m.\u001b[39mconvert_yunits)\n\u001b[0;32m-> 2417\u001b[0m x, height, width, y, linewidth, hatch \u001b[38;5;241m=\u001b[39m np\u001b[38;5;241m.\u001b[39mbroadcast_arrays(\n\u001b[1;32m   2418\u001b[0m     \u001b[38;5;66;03m# Make args iterable too.\u001b[39;00m\n\u001b[1;32m   2419\u001b[0m     np\u001b[38;5;241m.\u001b[39matleast_1d(x), height, width, y, linewidth, hatch)\n\u001b[1;32m   2421\u001b[0m \u001b[38;5;66;03m# Now that units have been converted, set the tick locations.\u001b[39;00m\n\u001b[1;32m   2422\u001b[0m \u001b[38;5;28;01mif\u001b[39;00m orientation \u001b[38;5;241m==\u001b[39m \u001b[38;5;124m'\u001b[39m\u001b[38;5;124mvertical\u001b[39m\u001b[38;5;124m'\u001b[39m:\n",
      "File \u001b[0;32m<__array_function__ internals>:200\u001b[0m, in \u001b[0;36mbroadcast_arrays\u001b[0;34m(*args, **kwargs)\u001b[0m\n",
      "File \u001b[0;32m~/anaconda3/lib/python3.11/site-packages/numpy/lib/stride_tricks.py:538\u001b[0m, in \u001b[0;36mbroadcast_arrays\u001b[0;34m(subok, *args)\u001b[0m\n\u001b[1;32m    482\u001b[0m \u001b[38;5;250m\u001b[39m\u001b[38;5;124;03m\"\"\"\u001b[39;00m\n\u001b[1;32m    483\u001b[0m \u001b[38;5;124;03mBroadcast any number of arrays against each other.\u001b[39;00m\n\u001b[1;32m    484\u001b[0m \n\u001b[0;32m   (...)\u001b[0m\n\u001b[1;32m    531\u001b[0m \n\u001b[1;32m    532\u001b[0m \u001b[38;5;124;03m\"\"\"\u001b[39;00m\n\u001b[1;32m    533\u001b[0m \u001b[38;5;66;03m# nditer is not used here to avoid the limit of 32 arrays.\u001b[39;00m\n\u001b[1;32m    534\u001b[0m \u001b[38;5;66;03m# Otherwise, something like the following one-liner would suffice:\u001b[39;00m\n\u001b[1;32m    535\u001b[0m \u001b[38;5;66;03m# return np.nditer(args, flags=['multi_index', 'zerosize_ok'],\u001b[39;00m\n\u001b[1;32m    536\u001b[0m \u001b[38;5;66;03m#                  order='C').itviews\u001b[39;00m\n\u001b[0;32m--> 538\u001b[0m args \u001b[38;5;241m=\u001b[39m [np\u001b[38;5;241m.\u001b[39marray(_m, copy\u001b[38;5;241m=\u001b[39m\u001b[38;5;28;01mFalse\u001b[39;00m, subok\u001b[38;5;241m=\u001b[39msubok) \u001b[38;5;28;01mfor\u001b[39;00m _m \u001b[38;5;129;01min\u001b[39;00m args]\n\u001b[1;32m    540\u001b[0m shape \u001b[38;5;241m=\u001b[39m _broadcast_shape(\u001b[38;5;241m*\u001b[39margs)\n\u001b[1;32m    542\u001b[0m \u001b[38;5;28;01mif\u001b[39;00m \u001b[38;5;28mall\u001b[39m(array\u001b[38;5;241m.\u001b[39mshape \u001b[38;5;241m==\u001b[39m shape \u001b[38;5;28;01mfor\u001b[39;00m array \u001b[38;5;129;01min\u001b[39;00m args):\n\u001b[1;32m    543\u001b[0m     \u001b[38;5;66;03m# Common case where nothing needs to be broadcasted.\u001b[39;00m\n",
      "File \u001b[0;32m~/anaconda3/lib/python3.11/site-packages/numpy/lib/stride_tricks.py:538\u001b[0m, in \u001b[0;36m<listcomp>\u001b[0;34m(.0)\u001b[0m\n\u001b[1;32m    482\u001b[0m \u001b[38;5;250m\u001b[39m\u001b[38;5;124;03m\"\"\"\u001b[39;00m\n\u001b[1;32m    483\u001b[0m \u001b[38;5;124;03mBroadcast any number of arrays against each other.\u001b[39;00m\n\u001b[1;32m    484\u001b[0m \n\u001b[0;32m   (...)\u001b[0m\n\u001b[1;32m    531\u001b[0m \n\u001b[1;32m    532\u001b[0m \u001b[38;5;124;03m\"\"\"\u001b[39;00m\n\u001b[1;32m    533\u001b[0m \u001b[38;5;66;03m# nditer is not used here to avoid the limit of 32 arrays.\u001b[39;00m\n\u001b[1;32m    534\u001b[0m \u001b[38;5;66;03m# Otherwise, something like the following one-liner would suffice:\u001b[39;00m\n\u001b[1;32m    535\u001b[0m \u001b[38;5;66;03m# return np.nditer(args, flags=['multi_index', 'zerosize_ok'],\u001b[39;00m\n\u001b[1;32m    536\u001b[0m \u001b[38;5;66;03m#                  order='C').itviews\u001b[39;00m\n\u001b[0;32m--> 538\u001b[0m args \u001b[38;5;241m=\u001b[39m [np\u001b[38;5;241m.\u001b[39marray(_m, copy\u001b[38;5;241m=\u001b[39m\u001b[38;5;28;01mFalse\u001b[39;00m, subok\u001b[38;5;241m=\u001b[39msubok) \u001b[38;5;28;01mfor\u001b[39;00m _m \u001b[38;5;129;01min\u001b[39;00m args]\n\u001b[1;32m    540\u001b[0m shape \u001b[38;5;241m=\u001b[39m _broadcast_shape(\u001b[38;5;241m*\u001b[39margs)\n\u001b[1;32m    542\u001b[0m \u001b[38;5;28;01mif\u001b[39;00m \u001b[38;5;28mall\u001b[39m(array\u001b[38;5;241m.\u001b[39mshape \u001b[38;5;241m==\u001b[39m shape \u001b[38;5;28;01mfor\u001b[39;00m array \u001b[38;5;129;01min\u001b[39;00m args):\n\u001b[1;32m    543\u001b[0m     \u001b[38;5;66;03m# Common case where nothing needs to be broadcasted.\u001b[39;00m\n",
      "\u001b[0;31mValueError\u001b[0m: setting an array element with a sequence. The requested array has an inhomogeneous shape after 1 dimensions. The detected shape was (3,) + inhomogeneous part."
     ]
    },
    {
     "data": {
      "image/png": "[encoded data removed]",
      "text/plain": [
       "<Figure size 640x480 with 1 Axes>"
      ]
     },
     "metadata": {},
     "output_type": "display_data"
    }
   ],
   "source": [
    "models = ['Rule-Based', 'Collaborative Filtering', 'Content-Based']\n",
    "precision_scores = [rule_precision, cf_precision, cb_precision]\n",
    "recall_scores = [rule_recall, cf_recall, cb_recall]\n",
    "ndcg_scores = [rule_ndcg, cf_ndcg, cb_ndcg]\n",
    "print(\"Precision Scores:\", precision_scores)\n",
    "print(\"Recall Scores:\", recall_scores)\n",
    "print(\"nDCG Scores:\", ndcg_scores)\n",
    "\n",
    "\n",
    "# Plot Precision@N\n",
    "plt.bar(models, precision_scores)\n",
    "plt.title(f\"Model Comparison: Precision@{n}\")\n",
    "plt.ylabel(\"Precision\")\n",
    "plt.show()\n",
    "\n",
    "# Plot Recall@N\n",
    "plt.bar(models, recall_scores)\n",
    "plt.title(f\"Model Comparison: Recall@{n}\")\n",
    "plt.ylabel(\"Recall\")\n",
    "plt.show()\n",
    "\n",
    "# Plot nDCG@N\n",
    "plt.bar(models, ndcg_scores)\n",
    "plt.title(f\"Model Comparison: nDCG@{n}\")\n",
    "plt.ylabel(\"nDCG\")\n",
    "plt.show()"
   ]
  },
  {
   "cell_type": "code",
   "execution_count": null,
   "id": "f9fdcf22",
   "metadata": {},
   "outputs": [],
   "source": []
  }
 ],
 "metadata": {
  "kernelspec": {
   "display_name": "Python 3 (ipykernel)",
   "language": "python",
   "name": "python3"
  },
  "language_info": {
   "codemirror_mode": {
    "name": "ipython",
    "version": 3
   },
   "file_extension": ".py",
   "mimetype": "text/x-python",
   "name": "python",
   "nbconvert_exporter": "python",
   "pygments_lexer": "ipython3",
   "version": "3.11.5"
  }
 },
 "nbformat": 4,
 "nbformat_minor": 5
}
