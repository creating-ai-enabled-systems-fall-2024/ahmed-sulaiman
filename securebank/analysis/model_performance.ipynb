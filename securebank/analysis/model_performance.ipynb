{
 "cells": [
  {
   "cell_type": "code",
   "execution_count": 1,
   "id": "2e7a8f02",
   "metadata": {},
   "outputs": [],
   "source": [
    "import sys\n",
    "import os\n",
    "\n",
    "sys.path.append(os.path.abspath('..'))\n",
    "\n",
    "import pandas as pd\n",
    "from modules.raw_data_handler import Raw_Data_Handler\n",
    "from modules.dataset_design import Dataset_Designer\n",
    "from modules.feature_extractor import Feature_Extractor\n",
    "from sklearn.preprocessing import StandardScaler\n",
    "from sklearn.model_selection import train_test_split\n",
    "from sklearn.linear_model import LogisticRegression\n",
    "from sklearn.naive_bayes import GaussianNB\n",
    "from sklearn.ensemble import ExtraTreesClassifier\n",
    "from sklearn.metrics import classification_report, accuracy_score\n",
    "import pickle\n",
    "import os"
   ]
  },
  {
   "cell_type": "code",
   "execution_count": 2,
   "id": "489a2c7b",
   "metadata": {},
   "outputs": [],
   "source": [
    "raw_handler = Raw_Data_Handler()\n",
    "\n",
    "customer_data, transaction_data, fraud_data = raw_handler.extract(\n",
    "    '../data_sources/customer_release.csv', \n",
    "    '../data_sources/transactions_release.parquet', \n",
    "    '../data_sources/fraud_release.json'\n",
    ")"
   ]
  },
  {
   "cell_type": "code",
   "execution_count": 3,
   "id": "aa25ad22",
   "metadata": {},
   "outputs": [],
   "source": [
    "cleaned_data = raw_handler.transform(customer_data, transaction_data, fraud_data)\n",
    "raw_handler.load(cleaned_data, '../storage/dataset/cleaned_data.parquet')"
   ]
  },
  {
   "cell_type": "code",
   "execution_count": 4,
   "id": "bf00b956",
   "metadata": {},
   "outputs": [],
   "source": [
    "dataset_designer = Dataset_Designer()\n",
    "\n",
    "cleaned_data = dataset_designer.extract('../storage/dataset/cleaned_data.parquet')\n",
    "\n",
    "train_data, test_data = dataset_designer.sample(cleaned_data)\n",
    "\n",
    "dataset_designer.load([train_data, test_data], ['../storage/dataset/train_data.parquet', '../storage/dataset/test_data.parquet'])"
   ]
  },
  {
   "cell_type": "code",
   "execution_count": 5,
   "id": "0d5ef35d",
   "metadata": {},
   "outputs": [],
   "source": [
    "feature_extractor = Feature_Extractor()\n",
    "\n",
    "train_data, test_data = feature_extractor.extract('../storage/dataset/train_data.parquet', '../storage/dataset/test_data.parquet')\n",
    "\n",
    "train_features, test_features = feature_extractor.transform(train_data, test_data)"
   ]
  },
  {
   "cell_type": "code",
   "execution_count": 6,
   "id": "cd735055",
   "metadata": {},
   "outputs": [],
   "source": [
    "train_features = pd.get_dummies(train_features, columns=['category', 'merchant'])\n",
    "test_features = pd.get_dummies(test_features, columns=['category', 'merchant'])\n",
    "\n",
    "X_train = train_features.drop(columns=['is_fraud'])\n",
    "y_train = train_features['is_fraud']\n",
    "\n",
    "X_test = test_features.drop(columns=['is_fraud'])\n",
    "y_test = test_features['is_fraud']"
   ]
  },
  {
   "cell_type": "code",
   "execution_count": 7,
   "id": "308456c5",
   "metadata": {},
   "outputs": [],
   "source": [
    "scaler = StandardScaler()\n",
    "\n",
    "X_train_scaled = scaler.fit_transform(X_train)\n",
    "X_test_scaled = scaler.transform(X_test)\n",
    "\n",
    "models = {\n",
    "    'LogisticRegression': LogisticRegression(max_iter=500),\n",
    "    'NaiveBayes': GaussianNB(),\n",
    "    'ExtraTrees': ExtraTreesClassifier(),\n",
    "}"
   ]
  },
  {
   "cell_type": "code",
   "execution_count": 10,
   "id": "3e2f5b65",
   "metadata": {},
   "outputs": [],
   "source": [
    "model_performance = {}\n",
    "for model_name, model in models.items():\n",
    "    model.fit(X_train_scaled, y_train)\n",
    "    y_pred = model.predict(X_test_scaled)\n",
    "    \n",
    "    model_performance[model_name] = accuracy_score(y_test, y_pred)\n",
    "    \n",
    "    os.makedirs('../storage/models/artifacts/', exist_ok=True)\n",
    "    with open(f'../storage/models/artifacts/{model_name}.pkl', 'wb') as f:\n",
    "        pickle.dump(model, f)"
   ]
  },
  {
   "cell_type": "code",
   "execution_count": 11,
   "id": "f101315c",
   "metadata": {},
   "outputs": [
    {
     "name": "stdout",
     "output_type": "stream",
     "text": [
      "LogisticRegression Accuracy: 1.00\n",
      "NaiveBayes Accuracy: 0.25\n",
      "ExtraTrees Accuracy: 1.00\n",
      "Classification Report for LogisticRegression:\n"
     ]
    },
    {
     "name": "stderr",
     "output_type": "stream",
     "text": [
      "/Users/sahmed08/anaconda3/lib/python3.11/site-packages/sklearn/base.py:457: UserWarning: X has feature names, but LogisticRegression was fitted without feature names\n",
      "  warnings.warn(\n"
     ]
    },
    {
     "name": "stdout",
     "output_type": "stream",
     "text": [
      "              precision    recall  f1-score   support\n",
      "\n",
      "         0.0       1.00      0.31      0.47    328225\n",
      "         1.0       0.01      0.90      0.01      1284\n",
      "\n",
      "    accuracy                           0.31    329509\n",
      "   macro avg       0.50      0.61      0.24    329509\n",
      "weighted avg       0.99      0.31      0.47    329509\n",
      "\n",
      "Classification Report for NaiveBayes:\n"
     ]
    },
    {
     "name": "stderr",
     "output_type": "stream",
     "text": [
      "/Users/sahmed08/anaconda3/lib/python3.11/site-packages/sklearn/base.py:457: UserWarning: X has feature names, but GaussianNB was fitted without feature names\n",
      "  warnings.warn(\n"
     ]
    },
    {
     "name": "stdout",
     "output_type": "stream",
     "text": [
      "              precision    recall  f1-score   support\n",
      "\n",
      "         0.0       1.00      1.00      1.00    328225\n",
      "         1.0       0.00      0.00      0.00      1284\n",
      "\n",
      "    accuracy                           1.00    329509\n",
      "   macro avg       0.50      0.50      0.50    329509\n",
      "weighted avg       0.99      1.00      0.99    329509\n",
      "\n",
      "Classification Report for ExtraTrees:\n"
     ]
    },
    {
     "name": "stderr",
     "output_type": "stream",
     "text": [
      "/Users/sahmed08/anaconda3/lib/python3.11/site-packages/sklearn/base.py:457: UserWarning: X has feature names, but ExtraTreesClassifier was fitted without feature names\n",
      "  warnings.warn(\n",
      "/Users/sahmed08/anaconda3/lib/python3.11/site-packages/sklearn/metrics/_classification.py:1469: UndefinedMetricWarning: Precision and F-score are ill-defined and being set to 0.0 in labels with no predicted samples. Use `zero_division` parameter to control this behavior.\n",
      "  _warn_prf(average, modifier, msg_start, len(result))\n"
     ]
    },
    {
     "name": "stdout",
     "output_type": "stream",
     "text": [
      "              precision    recall  f1-score   support\n",
      "\n",
      "         0.0       1.00      1.00      1.00    328225\n",
      "         1.0       0.00      0.00      0.00      1284\n",
      "\n",
      "    accuracy                           1.00    329509\n",
      "   macro avg       0.50      0.50      0.50    329509\n",
      "weighted avg       0.99      1.00      0.99    329509\n",
      "\n"
     ]
    },
    {
     "name": "stderr",
     "output_type": "stream",
     "text": [
      "/Users/sahmed08/anaconda3/lib/python3.11/site-packages/sklearn/metrics/_classification.py:1469: UndefinedMetricWarning: Precision and F-score are ill-defined and being set to 0.0 in labels with no predicted samples. Use `zero_division` parameter to control this behavior.\n",
      "  _warn_prf(average, modifier, msg_start, len(result))\n",
      "/Users/sahmed08/anaconda3/lib/python3.11/site-packages/sklearn/metrics/_classification.py:1469: UndefinedMetricWarning: Precision and F-score are ill-defined and being set to 0.0 in labels with no predicted samples. Use `zero_division` parameter to control this behavior.\n",
      "  _warn_prf(average, modifier, msg_start, len(result))\n"
     ]
    }
   ],
   "source": [
    "for model_name, performance in model_performance.items():\n",
    "    print(f\"{model_name} Accuracy: {performance:.2f}\")\n",
    "\n",
    "for model_name, model in models.items():\n",
    "    print(f\"Classification Report for {model_name}:\")\n",
    "    print(classification_report(y_test, model.predict(X_test)))"
   ]
  },
  {
   "cell_type": "markdown",
   "id": "89adb178",
   "metadata": {},
   "source": [
    "Let me first address why I used Naive Bayes and Extra Trees classifiers, instead of the recommended Random Forest and SVM classfiers. My computer that I am using takes too long and can't run the Random Forest and SVM classifiers, so I chose the Naive Bayes classifier and Extra Forest classfiers as more lightweight options. However, I have defaulted to using the Logistic Regression given that it is one of the recommended classfiers and that it has a very high accuracy here."
   ]
  },
  {
   "cell_type": "code",
   "execution_count": null,
   "id": "86974004",
   "metadata": {},
   "outputs": [],
   "source": []
  }
 ],
 "metadata": {
  "kernelspec": {
   "display_name": "Python 3 (ipykernel)",
   "language": "python",
   "name": "python3"
  },
  "language_info": {
   "codemirror_mode": {
    "name": "ipython",
    "version": 3
   },
   "file_extension": ".py",
   "mimetype": "text/x-python",
   "name": "python",
   "nbconvert_exporter": "python",
   "pygments_lexer": "ipython3",
   "version": "3.11.5"
  }
 },
 "nbformat": 4,
 "nbformat_minor": 5
}
