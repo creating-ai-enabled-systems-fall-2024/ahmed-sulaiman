{
 "cells": [
  {
   "cell_type": "code",
   "execution_count": 1,
   "id": "84538cea",
   "metadata": {},
   "outputs": [
    {
     "name": "stderr",
     "output_type": "stream",
     "text": [
      "/Users/sahmed08/anaconda3/lib/python3.11/site-packages/sentence_transformers/cross_encoder/CrossEncoder.py:13: TqdmExperimentalWarning: Using `tqdm.autonotebook.tqdm` in notebook mode. Use `tqdm.tqdm` instead to force console mode (e.g. in jupyter console)\n",
      "  from tqdm.autonotebook import tqdm, trange\n",
      "2024-11-10 17:54:34.265515: I tensorflow/core/platform/cpu_feature_guard.cc:210] This TensorFlow binary is optimized to use available CPU instructions in performance-critical operations.\n",
      "To enable the following instructions: AVX2 FMA, in other operations, rebuild TensorFlow with the appropriate compiler flags.\n"
     ]
    }
   ],
   "source": [
    "import sys\n",
    "import os\n",
    "\n",
    "sys.path.append(os.path.abspath('..'))\n",
    "from pipeline import Pipeline\n",
    "import numpy as np"
   ]
  },
  {
   "cell_type": "code",
   "execution_count": 2,
   "id": "348b32a5",
   "metadata": {},
   "outputs": [],
   "source": [
    "pipeline = Pipeline(mistral_api_key='6dKvfqAjj0sS5Qg5XJJxvVTHoLidanEt')\n",
    "pipeline.preprocess_corpus(corpus_directory='../storage/corpus', chunking_strategy='sentence', overlap_size=2)"
   ]
  },
  {
   "cell_type": "code",
   "execution_count": 14,
   "id": "6f92111b",
   "metadata": {},
   "outputs": [],
   "source": [
    "queries = [\n",
    "    (\"Who was Abraham Lincoln?\", 15),\n",
    "    (\"Who was Abraham Adams?\", 15),\n",
    "    (\"Did Abraham Lincoln live in the Frontier?\", 1),\n",
    "    (\"Did Abraham Lincoln live in the Frontier?\", 10),\n",
    "    (\"Did Abraham Lincoln live in the Frontier?\", 20),\n",
    "    (\"Did Abraham Lincoln live in the Frontier?\", 50),\n",
    "    (\"How did Fillmore ascend to the presidency?\", 5),\n",
    "    (\"What is the capital of France?\", 5)\n",
    "]"
   ]
  },
  {
   "cell_type": "code",
   "execution_count": 15,
   "id": "a9607486",
   "metadata": {
    "scrolled": false
   },
   "outputs": [
    {
     "name": "stdout",
     "output_type": "stream",
     "text": [
      "\n",
      "Query: Who was Abraham Lincoln?, k: 15\n",
      "Number of vectors in the FAISS index: 1531\n",
      "Neighbors (k=15) ['Abraham Lincoln Abraham Lincoln (February 12, 1809 – April 15, 1865) was the sixteenth President of the United States, serving from March 4, 1861 until his assassination. As an outspoken opponent of the expansion of slavery in the United States, \"[I]n his short autobiography written for the 1860 presidential campaign, Lincoln would describe his protest in the Illinois legislature as one that \\'briefly defined his position on the slavery question, and so far as it goes, it was then the same that it is now.\"', 'Lincoln is well known for ending slavery in the United States. In 1861 – 1862, however, he made it clear that the North was fighting the war to preserve the Union, not to abolish slavery.', \"Lincoln, Illinois, is the only city to be named for Abraham Lincoln before he became President. Lincoln's name and image appear in numerous places.\", 'Lincoln won the Republican Party nomination in 1860 and was elected president later that year. During his term, he helped preserve the United States by leading the defeat of the secessionist Confederate States of America in the American Civil War.', 'These focused first on the party platform, and second on Lincoln\\'s life story, making the most of his boyhood poverty, his pioneer background, his native genius, and his rise from obscurity. His nicknames, \"Honest Abe\" and \"the Rail-Splitter,\" were exploited to the full.', 'Abraham Lincoln Online Retrieved on March 11, 2007 For several months, Lincoln ran a small store in New Salem, selling tea, coffee, sugar, salt, blue calico, brown muslin, straw hats and whiskey. Beveridge (1928) 1:127-8 Later, he found work as village postmaster and as a surveyor.', 'This finally happened in April 1861. Historian Allan Nevins argues that Lincoln made three miscalculations in believing that he could preserve the Union, hold government property, and still avoid war.', 'Entering the presidential nomination process as a distinct underdog, Lincoln was eventually chosen as the Republican candidate for the 1860 election for several reasons. His expressed views on slavery were seen as more moderate than those of rivals William H. Seward and Salmon P. Chase.', \"See Hofstadter, Richard, The United States: The History of a Republic, Prentice-Hall, 1967, p. 446. Lincoln had a star-crossed record as a military leader, possessing a keen understanding of strategic points (such as the Mississippi River and the fortress city of Vicksburg) and the importance of defeating the enemy's army, rather than simply capturing cities.\", '7. In a speech against the act, on October 16 1854, delivered in Peoria, Lincoln first stood out among the other free soil orators of the day: Drawing on remnants of the old Whig, Free Soil, Liberty and Democratic parties, he was instrumental in forming the new Republican Party.', 'Lincoln, in top hat, with Allan Pinkerton and Gen. John Alexander McClernand at Antietam. Nevertheless, Republicans across the country feared that Lincoln would be defeated.', 'The goal was to emphasize the superior power of \"free labor,\" whereby a common farm boy could work his way to the top by his own efforts. Thomas (1952) p 216; Reinhard H. Luthin, The First Lincoln Campaign (1944); Nevins vol 4; On November 6, 1860, Lincoln was elected as the 16th President of the United States, beating Democrat Stephen A. Douglas, John C. Breckinridge of the Southern Democrats, and John Bell of the new Constitutional Union Party.', 'His assassination in 1865 was the first presidential assassination in U.S. history and made him a martyr for the ideal of national unity. Scholars now rank Lincoln among the top three U.S. Presidents, with the majority of those surveyed placing him first.', 'Robert Todd Lincoln was born in Springfield, Illinois on 1 August, 1843. Their only child to survive into adulthood, young Robert attended Phillips Exeter Academy and Harvard College.', 'Lincoln\\'s first term. Thomas \"Tad\" Lincoln was born on 4 April, 1853, and died on July 16, 1871 in Chicago.']\n",
      "\n",
      "Query: Who was Abraham Adams?, k: 15\n",
      "Number of vectors in the FAISS index: 1531\n",
      "Neighbors (k=15) ['Adams, a sponsor of the American Revolution in Massachusetts, was a driving force for independence in 1776; Jefferson called him the \"Colossus of Independence\". He represented the Continental Congress in Europe.', 'His birthplace is now part of Adams National Historical Park. His father, a farmer and a Deacon, also named John (1690-1761), was a fourth-generation descendant of Henry Adams, who immigrated from Barton St David, Somerset, England, to Massachusetts Bay Colony in about 1636, from a Welsh male line called Ap Adam.', 'The Works of John Adams (1854), vol III, p 421, diary entry for July 26, 1796. The Unitarian Universalist Historical Society sheds some light on Adams’s religious beliefs.', 'Their children were Abigail (1765-1813); future president John Quincy (1767-1848); Susanna (1768–1770); Charles (1770-1800); Thomas Boylston (1772-1832); and Elizabeth (1775) who was stillborn. Adams was not a popular leader like his second cousin, Samuel Adams; instead, his influence emerged through his work as a constitutional lawyer and his intense analysis of historical examples, Ferling (1992) p 117 together with his thorough knowledge of the law and his dedication to the principles of republicanism.', 'Adams often found his inborn contentiousness to be a restraint in his political career. Adams wanted to secure approval from the people, and he saw his chance in the British/colonial conflict.', 'He went back to farming in the Quincy area. In 1812, Adams reconciled with Jefferson.', 'He complained to his wife Abigail, \"My country has in its wisdom contrived for me the most insignificant office that ever the invention of man contrived or his imagination conceived.\" During the presidential campaign of 1796 Adams was the presidential candidate of the Federalist Party and Thomas Pinckney, the Governor of South Carolina, his running mate.', \"ISSN 0146-437X Abigail Adams opposed slavery and employed free blacks in preference to her father's two domestic slaves. He spoke out against a bill to emancipate slaves in Massachusetts, opposed use of black soldiers in the Revolution, and tried to keep the issue out of national politics.\", 'After these negotiations began, Adams had spent some time as the ambassador in the Netherlands, then the only other well-functioning Republic in the world. In July 1780, he had been authorized to execute the duties previously assigned to Laurens.', 'He was defeated for re-election in the \"Revolution of 1800\" by Thomas Jefferson. Adams was also the first President to reside in the newly built White House in Washington, D.C., which was completed in 1800.', 'Adams avoided war, but deeply split his own party in the process. He brought in John Marshall as Secretary of State and demobilized the emergency army.', 'He was appointed on a committee with Thomas Jefferson, Benjamin Franklin, Robert R. Livingston and Roger Sherman, to draft a Declaration of Independence. Although that document was largely drafted by Jefferson, Adams occupied the foremost place in the debate on its adoption.', 'Sixteen months before his death, his son, John Quincy Adams, became the sixth President of the United States (1825 1829), the only son of a former President to hold the office until George W. Bush in 2001. His daughter Abigail (\"Nabby\") was married to Congressman William Stephens Smith and died of cancer in 1816.', 'The Massachusetts Constitution of 1780: A Social Compact (1978) p 13 says Adams was its \"principal architect.\" It was the first constitution written by a special committee and ratified by the people.', 'Works of John Adams, IV:557 Adams did as much as anyone to put the idea of \"checks and balances\" on the intellectual map. Adams never bought a slave and declined on principle to employ slave labor.']\n",
      "\n",
      "Query: Did Abraham Lincoln live in the Frontier?, k: 1\n",
      "Number of vectors in the FAISS index: 1531\n",
      "Neighbors (k=1) ['This area was at the time considered the \"frontier.\" The name \"Abraham\" was chosen to commemorate his grandfather, who was killed in an American Indian raid in 1786.']\n",
      "\n",
      "Query: Did Abraham Lincoln live in the Frontier?, k: 10\n",
      "Number of vectors in the FAISS index: 1531\n",
      "Neighbors (k=10) ['This area was at the time considered the \"frontier.\" The name \"Abraham\" was chosen to commemorate his grandfather, who was killed in an American Indian raid in 1786.', 'He later noted that this move was \"partly on account of slavery,\" and partly because of difficulties with land deeds in Kentucky: Unlike land in the Northwest Territory, Kentucky never had a proper U.S. survey, and farmers often had difficulties proving title to their property. Lincoln was only nine when his mother, then thirty-four years old, died of milk sickness.', 'Abraham Lincoln Online Retrieved on March 11, 2007 For several months, Lincoln ran a small store in New Salem, selling tea, coffee, sugar, salt, blue calico, brown muslin, straw hats and whiskey. Beveridge (1928) 1:127-8 Later, he found work as village postmaster and as a surveyor.', 'Lincoln believed in the Whig theory of the presidency, which left Congress to write the laws while he signed them, vetoing only those bills that threatened his war powers. Thus, he signed the Homestead Act in 1862, making millions of acres of government-held land in the West available for purchase at very low cost.', \"The family belonged to a Baptist church that had seceded from a larger church over the issue of slavery. Though Lincoln was exposed to his parents' anti-slavery sentiment from a very young age, he never joined their church, or any other church for that matter.\", 'These focused first on the party platform, and second on Lincoln\\'s life story, making the most of his boyhood poverty, his pioneer background, his native genius, and his rise from obscurity. His nicknames, \"Honest Abe\" and \"the Rail-Splitter,\" were exploited to the full.', 'For some time, Lincoln continued earlier plans to set up colonies for the newly freed slaves. He commented favorably on colonization in the Emancipation Proclamation, but all attempts at such a massive undertaking failed.', 'All agree that he began \"Now he belongs to the...\" with some stating he said \"ages\" while others believe he said \"angels.\" After Lincoln\\'s body was returned to the White House, his body was prepared for his lying in repose in the East Room.', 'This finally happened in April 1861. Historian Allan Nevins argues that Lincoln made three miscalculations in believing that he could preserve the Union, hold government property, and still avoid war.', 'Lincoln is well known for ending slavery in the United States. In 1861 – 1862, however, he made it clear that the North was fighting the war to preserve the Union, not to abolish slavery.']\n",
      "\n",
      "Query: Did Abraham Lincoln live in the Frontier?, k: 20\n",
      "Number of vectors in the FAISS index: 1531\n",
      "Neighbors (k=20) ['This area was at the time considered the \"frontier.\" The name \"Abraham\" was chosen to commemorate his grandfather, who was killed in an American Indian raid in 1786.', 'He later noted that this move was \"partly on account of slavery,\" and partly because of difficulties with land deeds in Kentucky: Unlike land in the Northwest Territory, Kentucky never had a proper U.S. survey, and farmers often had difficulties proving title to their property. Lincoln was only nine when his mother, then thirty-four years old, died of milk sickness.', 'Abraham Lincoln Online Retrieved on March 11, 2007 For several months, Lincoln ran a small store in New Salem, selling tea, coffee, sugar, salt, blue calico, brown muslin, straw hats and whiskey. Beveridge (1928) 1:127-8 Later, he found work as village postmaster and as a surveyor.', 'Lincoln believed in the Whig theory of the presidency, which left Congress to write the laws while he signed them, vetoing only those bills that threatened his war powers. Thus, he signed the Homestead Act in 1862, making millions of acres of government-held land in the West available for purchase at very low cost.', \"The family belonged to a Baptist church that had seceded from a larger church over the issue of slavery. Though Lincoln was exposed to his parents' anti-slavery sentiment from a very young age, he never joined their church, or any other church for that matter.\", 'These focused first on the party platform, and second on Lincoln\\'s life story, making the most of his boyhood poverty, his pioneer background, his native genius, and his rise from obscurity. His nicknames, \"Honest Abe\" and \"the Rail-Splitter,\" were exploited to the full.', 'For some time, Lincoln continued earlier plans to set up colonies for the newly freed slaves. He commented favorably on colonization in the Emancipation Proclamation, but all attempts at such a massive undertaking failed.', 'All agree that he began \"Now he belongs to the...\" with some stating he said \"ages\" while others believe he said \"angels.\" After Lincoln\\'s body was returned to the White House, his body was prepared for his lying in repose in the East Room.', 'This finally happened in April 1861. Historian Allan Nevins argues that Lincoln made three miscalculations in believing that he could preserve the Union, hold government property, and still avoid war.', 'Lincoln is well known for ending slavery in the United States. In 1861 – 1862, however, he made it clear that the North was fighting the war to preserve the Union, not to abolish slavery.', 'Soon afterwards, his father remarried to Sarah Bush Johnston. Sarah Lincoln raised young Lincoln like one of her own children.', 'Foner (1970) p. 215 says, \"Lincoln stressed the moral basis of republicanism.\" See also McPherson (1992) pp.61-64.', 'As a youth he had little use for religion. Life of Abraham Lincoln, Colonel Ward H. Lamon, 1872 - portions reprinted in Chapter VIII: Abraham Lincoln, Deist, and Admirer of Thomas Paine, From the book Religious Beliefs of Our Presidents by Franklin Steiner (1936) Lincoln was just seven years old when, in 1816, the family was forced to make a new start in Perry County (now in Spencer County), Indiana.', \"Lincoln, Illinois, is the only city to be named for Abraham Lincoln before he became President. Lincoln's name and image appear in numerous places.\", 'But his parents moved South in 1851 and identified with the Confederacy. His father defended slavery, owned slaves and set up a Sunday school for them.', 'In claiming that all men were created free, Lincoln and the Whigs argued that this freedom required economic advancement, expanded education, territory to grow, and the ability of the nation to absorb the growing immigrant population. Guelzo pg.194-195 It was the Declaration of Independence, rather than the Bible, that Lincoln most relied on in order to oppose any further territorial expansion of slavery.', 'The following winter was desolate and especially brutal, and the family considered moving back to Indiana. The following year, when his father relocated the family to a new homestead in Coles County, Illinois, twenty-two-year-old Lincoln struck out on his own, canoeing down the Sangamon River to the village of New Salem in Sangamon County.', 'just to borrow one While his favorite book was The Life of George Washington, Lincoln mastered the Bible, Shakespeare, and English and American history, and developed a plain writing style that puzzled audiences more used to grandiose rhetoric. He was also a talented local wrestler and skilled with an ax; some rails he had allegedly split in his youth were exhibited at the 1860 Republican National Convention, as the party celebrated the poor-boy-made-good theme.', 'Lincoln avoided hunting and fishing because he did not like killing animals, even for food. Though he was unusually tall at , 4 inches and strong, Lincoln spent so much time reading that some neighbors suspected he must be doing it to avoid strenuous manual labor.', 'He was greeted at the city as a conquering hero by freed slaves, whose sentiments were epitomized by one admirer\\'s quote, \"I know I am free for I have seen the face of Father Abraham and have felt him.\" When a general asked Lincoln how the defeated Confederates should be treated, Lincoln replied, \"Let \\'em up easy.\"']\n",
      "\n",
      "Query: Did Abraham Lincoln live in the Frontier?, k: 50\n",
      "Number of vectors in the FAISS index: 1531\n",
      "Neighbors (k=50) ['This area was at the time considered the \"frontier.\" The name \"Abraham\" was chosen to commemorate his grandfather, who was killed in an American Indian raid in 1786.', 'He later noted that this move was \"partly on account of slavery,\" and partly because of difficulties with land deeds in Kentucky: Unlike land in the Northwest Territory, Kentucky never had a proper U.S. survey, and farmers often had difficulties proving title to their property. Lincoln was only nine when his mother, then thirty-four years old, died of milk sickness.', 'Abraham Lincoln Online Retrieved on March 11, 2007 For several months, Lincoln ran a small store in New Salem, selling tea, coffee, sugar, salt, blue calico, brown muslin, straw hats and whiskey. Beveridge (1928) 1:127-8 Later, he found work as village postmaster and as a surveyor.', 'Lincoln believed in the Whig theory of the presidency, which left Congress to write the laws while he signed them, vetoing only those bills that threatened his war powers. Thus, he signed the Homestead Act in 1862, making millions of acres of government-held land in the West available for purchase at very low cost.', \"The family belonged to a Baptist church that had seceded from a larger church over the issue of slavery. Though Lincoln was exposed to his parents' anti-slavery sentiment from a very young age, he never joined their church, or any other church for that matter.\", 'These focused first on the party platform, and second on Lincoln\\'s life story, making the most of his boyhood poverty, his pioneer background, his native genius, and his rise from obscurity. His nicknames, \"Honest Abe\" and \"the Rail-Splitter,\" were exploited to the full.', 'For some time, Lincoln continued earlier plans to set up colonies for the newly freed slaves. He commented favorably on colonization in the Emancipation Proclamation, but all attempts at such a massive undertaking failed.', 'All agree that he began \"Now he belongs to the...\" with some stating he said \"ages\" while others believe he said \"angels.\" After Lincoln\\'s body was returned to the White House, his body was prepared for his lying in repose in the East Room.', 'This finally happened in April 1861. Historian Allan Nevins argues that Lincoln made three miscalculations in believing that he could preserve the Union, hold government property, and still avoid war.', 'Lincoln is well known for ending slavery in the United States. In 1861 – 1862, however, he made it clear that the North was fighting the war to preserve the Union, not to abolish slavery.', 'Soon afterwards, his father remarried to Sarah Bush Johnston. Sarah Lincoln raised young Lincoln like one of her own children.', 'Foner (1970) p. 215 says, \"Lincoln stressed the moral basis of republicanism.\" See also McPherson (1992) pp.61-64.', 'As a youth he had little use for religion. Life of Abraham Lincoln, Colonel Ward H. Lamon, 1872 - portions reprinted in Chapter VIII: Abraham Lincoln, Deist, and Admirer of Thomas Paine, From the book Religious Beliefs of Our Presidents by Franklin Steiner (1936) Lincoln was just seven years old when, in 1816, the family was forced to make a new start in Perry County (now in Spencer County), Indiana.', \"Lincoln, Illinois, is the only city to be named for Abraham Lincoln before he became President. Lincoln's name and image appear in numerous places.\", 'But his parents moved South in 1851 and identified with the Confederacy. His father defended slavery, owned slaves and set up a Sunday school for them.', 'In claiming that all men were created free, Lincoln and the Whigs argued that this freedom required economic advancement, expanded education, territory to grow, and the ability of the nation to absorb the growing immigrant population. Guelzo pg.194-195 It was the Declaration of Independence, rather than the Bible, that Lincoln most relied on in order to oppose any further territorial expansion of slavery.', 'The following winter was desolate and especially brutal, and the family considered moving back to Indiana. The following year, when his father relocated the family to a new homestead in Coles County, Illinois, twenty-two-year-old Lincoln struck out on his own, canoeing down the Sangamon River to the village of New Salem in Sangamon County.', 'just to borrow one While his favorite book was The Life of George Washington, Lincoln mastered the Bible, Shakespeare, and English and American history, and developed a plain writing style that puzzled audiences more used to grandiose rhetoric. He was also a talented local wrestler and skilled with an ax; some rails he had allegedly split in his youth were exhibited at the 1860 Republican National Convention, as the party celebrated the poor-boy-made-good theme.', 'Lincoln avoided hunting and fishing because he did not like killing animals, even for food. Though he was unusually tall at , 4 inches and strong, Lincoln spent so much time reading that some neighbors suspected he must be doing it to avoid strenuous manual labor.', 'He was greeted at the city as a conquering hero by freed slaves, whose sentiments were epitomized by one admirer\\'s quote, \"I know I am free for I have seen the face of Father Abraham and have felt him.\" When a general asked Lincoln how the defeated Confederates should be treated, Lincoln replied, \"Let \\'em up easy.\"', 'Robert Todd Lincoln was born in Springfield, Illinois on 1 August, 1843. Their only child to survive into adulthood, young Robert attended Phillips Exeter Academy and Harvard College.', 'Yet despite his Southern connections (his in-laws owned slaves), Lincoln misunderstood the depth of the revolution underway in the South and the emergence of Southern nationalism. Throughout the 1850s he denied that there would ever be a civil war, and his supporters repeatedly rejected claims that his election would incite secession.', 'While much of the nation mourned him as the savior of the United States, Copperheads celebrated the death of a man they considered an unconstitutional tyrant. The Lincoln Tomb in Oak Ridge Cemetery in Springfield, is 177 feet (54 m) tall and, by 1874, was surmounted with several bronze statues of Lincoln.', 'Robert died on July 26, 1926, in Manchester, Vermont. The other Lincoln children were born in Springfield, Illinois, and died either during childhood or their teen years.', \"See Hofstadter, Richard, The United States: The History of a Republic, Prentice-Hall, 1967, p. 446. Lincoln had a star-crossed record as a military leader, possessing a keen understanding of strategic points (such as the Mississippi River and the fortress city of Vicksburg) and the importance of defeating the enemy's army, rather than simply capturing cities.\", 'His \"Western\" origins also appealed to the newer states: other contenders, especially those with more governmental experience, had acquired enemies within the party and were weak in the critical western states, while Lincoln was perceived as a moderate who could win the West. Most Republicans agreed with Lincoln that the North was the aggrieved party as the Slave Power tightened its grasp on the national government.', 'He had purchased the Sinking Spring Farm in December of 1808 for $200 cash and assumption of a debt. The farm site is now preserved as part of Abraham Lincoln Birthplace National Historic Site.', \"In 1830, after more economic and land-title difficulties in Indiana, the family settled on public land /ref> in Macon County, Illinois. Some scholars believe that it was his father's repeated land-title difficulties and ensuing financial hardships that led young Lincoln to study law.\", 'Abraham Lincoln Abraham Lincoln (February 12, 1809 – April 15, 1865) was the sixteenth President of the United States, serving from March 4, 1861 until his assassination. As an outspoken opponent of the expansion of slavery in the United States, \"[I]n his short autobiography written for the 1860 presidential campaign, Lincoln would describe his protest in the Illinois legislature as one that \\'briefly defined his position on the slavery question, and so far as it goes, it was then the same that it is now.\"', 'The Abraham Lincoln National Cemetery is located in Elwood, Illinois.', 'Jaffa (2000) p. 399, stresses Lincoln\\'s emphasis on the Declaration of Independence as what Lincoln called the \"sheet anchor\" of republicanism. See also McPherson (1992) pp.61-64.', '57-59 Lincoln’s reading and study of the Bible was an integral part of his intellectual roots. Lincoln did, even as a boy, largely reject organized religion, but the Calvinistic \"doctrine of necessity\" would remain a factor throughout his life.', 'He was the first Republican president, winning entirely on the strength of his support in the North: he was not even on the ballot in nine states in the South, and won only 2 of 996 counties in the other Southern states. Lincoln gained 1,865,908 votes (39.9% of the total), for 180 electoral votes; Douglas, 1,380,202 (29.5%) for 12 electoral votes; Breckenridge, 848,019 (18.1%) for 72 electoral votes; and Bell, 590,901 (12.5%) for 39 electoral votes.', 'The philosophical basis for Lincoln’s beliefs regarding slavery and other issues of the day require that Lincoln be examined \"seriously as a man of ideas.\" Lincoln was a strong supporter of the American Whig version of liberal capitalism who, more than most politicians of the time, was able to express his ideas within the context of Nineteenth Century religious beliefs.', \"The other rebel armies surrendered soon after, and there was no subsequent guerrilla warfare. Lincoln went to Richmond to make a public gesture of sitting at Jefferson Davis's own desk, symbolically saying to the nation that the President of the United States held authority over the entire land.\", 'With a reputation as a formidable adversary during cross-examinations and in his closing arguments, Lincoln became one of the most respected and successful lawyers in Illinois and grew steadily more prosperous. He served four successive terms in the Illinois House of Representatives as a representative from Sangamon County, and became a leader of the Illinois Whig party.', 'Then, Grant dispatched Philip Sheridan to the Shenandoah Valley to deal with Early. It became clear to the people of the North that the war was being won, and Lincoln was re-elected by a wide margin.', \"Early invaded north through the Shenandoah Valley and reached the outskirts of Washington, D.C.. Although unable to take the city, Early embarrassed the Administration simply by threatening its inhabitants, making Abraham Lincoln's re-election prospects even bleaker.\", '7. In a speech against the act, on October 16 1854, delivered in Peoria, Lincoln first stood out among the other free soil orators of the day: Drawing on remnants of the old Whig, Free Soil, Liberty and Democratic parties, he was instrumental in forming the new Republican Party.', 'There was no teacher, mentor, church leader, community leader, or peer that Lincoln would credit in later years as a strong influence on his intellectual development. Lacking a formal education, Lincoln’s personal philosophy was shaped by \"an amazingly retentive memory and a passion for reading and learning.\"', \"Lincoln's birthplace and family home are national historic memorials: the Abraham Lincoln Birthplace National Historic Site in Hodgenville, and the Lincoln Home National Historic Site in Springfield, Illinois. The Abraham Lincoln Presidential Library and Museum opened in Springfield in 2005; it is a major tourist attraction, with state-of-the-art exhibits.\", 'He was elected captain of an Illinois militia company drawn from New Salem during the Black Hawk War, and later wrote that he had not had \"any such success in life which gave him so much satisfaction.\" Thomas (1952) 32-34; Basler (1946) p. 551 Though he never saw combat, Lincoln did assist in burying the dead from the Battle of Stillman\\'s Run the day after Major Isaiah Stillman\\'s troops fled the field of battle.', 'Young Abraham Lincoln Lincoln began his political career in 1832, at age 23, with an unsuccessful campaign for the Illinois General Assembly, as a member of the Whig Party. He ran eighth in a field of 13 candidates.', 'Lincoln won the Republican Party nomination in 1860 and was elected president later that year. During his term, he helped preserve the United States by leading the defeat of the secessionist Confederate States of America in the American Civil War.', '251-254 After Willie’s death, in the summer or early fall of 1862, Lincoln attempted to put on paper his private musings on why, from a divine standpoint, the severity of the war was necessary: Lincoln’s religious skepticism was fueled by his exposure to the ideas of the Lockean Enlightenment and classical liberalism, especially economic liberalism. Guelzo pg.', 'Guelzo pg. 18-19 There were few people who strongly or directly influenced Lincoln’s moral and intellectual development and perspectives.', 'Virginia, which had repeatedly warned Lincoln that it would not allow an invasion of its territory or join an attack on another state, responded by seceding, along with North Carolina, Tennessee, and Arkansas. The slave states of Missouri, Kentucky, Maryland, and Delaware did not secede, and Lincoln urgently negotiated with state leaders there, promising not to interfere with slavery.', \"Lincoln's formal education consisted of about 18 months of schooling. Largely self-educated, he read every book he could get his hands on, once walking.\", 'The goal was to emphasize the superior power of \"free labor,\" whereby a common farm boy could work his way to the top by his own efforts. Thomas (1952) p 216; Reinhard H. Luthin, The First Lincoln Campaign (1944); Nevins vol 4; On November 6, 1860, Lincoln was elected as the 16th President of the United States, beating Democrat Stephen A. Douglas, John C. Breckinridge of the Southern Democrats, and John Bell of the new Constitutional Union Party.', 'One, Clement Vallandigham, was exiled; but all of the remainder were released, usually after two or three months (see: Ex parte Merryman). Lincoln met with his cabinet for the first reading of the Emancipation Proclamation draft on July 22, 1862.']\n",
      "\n",
      "Query: How did Fillmore ascend to the presidency?, k: 5\n",
      "Number of vectors in the FAISS index: 1531\n",
      "Neighbors (k=5) [\"Instead, Fillmore joined the anti-immigrant, anti-Catholic American Party, the political organ of the Know-Nothing movement. He ran in the election of 1856 as the party's candidate, attempting to win a non-consecutive second term as President (a feat accomplished only once in American politics, by Grover Cleveland).\", 'He tried to unite the party by pointing out the differences between the Whigs and the Democrats (by proposing tariff reforms that negatively reflected on the Democratic Party). Another primary objective of Fillmore was to preserve the Union from the intensifying slavery debate.', 'Fillmore signaled this shift by appointing Daniel Webster as his Secretary of State. As president, Fillmore dealt with increasing party divisions within the Whig party; party harmony became one of his primary objectives.', \"Official White House portrait of Millard FillmoreFillmore ascended to the presidency upon the sudden and unexpected death of President Taylor in July 1850. The change in leadership also signaled an abrupt political shift in the administration, as Fillmore removed Taylor's entire cabinet, replacing them with individuals known to be favorable to the Compromise efforts.\", \"Fillmore was never elected President; after serving out Taylor's term, he failed to gain the nomination for the Presidency of the Whigs in the 1852 presidential election, and, four years later, in the 1856 presidential election, he again failed to win election as President as the Know Nothing Party and Whig candidate. Fillmore was born in a log cabin in Summerhill, New York, to Nathaniel and Phoebe Millard Fillmore, as the second of nine children and the eldest son.\"]\n",
      "\n",
      "Query: What is the capital of France?, k: 5\n",
      "Number of vectors in the FAISS index: 1531\n",
      "Neighbors (k=5) [\"After his term in the Senate, Monroe was appointed Minister to France from 1794 to 1796. His appointment there was made difficult as he had strong sympathies for the French Revolution, but dutifully maintained President Washington's strict policy of neutrality between Britiain and France.\", 'In the late stages of the war he took personal control of negotiations with Germany, especially with the Fourteen Points and the Armistice. He went to Paris in 1919 to create the League of Nations and shape the Treaty of Versailles, with special attention on creating new nations out of defunct empires.', \"It also made several suggestions for specific disputes in Europe on the recommendation of Wilson's foreign policy advisor, Colonel Edward M. House, and his team of 150 advisors known as “The Inquiry.” The points were: Abolition of secret treaties Freedom of the seas Free Trade Disarmament Adjustment of colonial claims (decolonization and national self-determination) Russia to be assured independent development and international withdrawal from occupied Russian territory Restoration of Belgium to antebellum national status Alsace-Lorraine returned to France from Germany Italian borders redrawn on lines of nationality Autonomous development of Austria-Hungary as a nation, as the Austro-Hungarian Empire dissolved Romania, Serbia, Montenegro, and other Balkan states to be granted integrity, have their territories deoccupied, and Serbia to be given access to the Adriatic Sea Sovereignty for the Turkish people of the Ottoman Empire as the Empire dissolved, autonomous development for other nationalities within the former Empire Establishment of an independent Poland with access to the sea General association of the nations – a multilateral international association of nations to enforce the peace (League of Nations) The speech was controversial in America, and even more so with their Allies. France wanted high reparations from Germany as French agriculture, industry, and lives had been so demolished by the war, and Britain, as the great naval power, did not want freedom of the seas.\", 'Because the French helped secure American independence from Britain they had greater popularity with America. After the Jay treaty with Great Britain the French became angry and began seizing American merchant ships that were trading with the British.', 'With the aid of the Dutch patriot leader Joan van der Capellen tot den Pol, Adams secured the recognition of the United States as an independent government at The Hague on April 19, 1782. In February 1782 the Frisian states had been the first Dutch province to recognize the United States, while France had been the first European country to grant diplomatic recognition, in 1778).']\n"
     ]
    }
   ],
   "source": [
    "for query, k in queries:\n",
    "    print(f\"\\nQuery: {query}, k: {k}\")\n",
    "    \n",
    "    query_embedding = pipeline._Pipeline__encode(query)\n",
    "    \n",
    "\n",
    "    neighbors, distances = pipeline.search_neighbors(query_embedding, k=k)\n",
    "    print(f\"Neighbors (k={k})\", neighbors)"
   ]
  },
  {
   "cell_type": "code",
   "execution_count": 16,
   "id": "5c211b88",
   "metadata": {},
   "outputs": [
    {
     "name": "stdout",
     "output_type": "stream",
     "text": [
      "Number of vectors in the FAISS index: 1531\n",
      "Query: Who was Abraham Lincoln?, k: 15\n",
      "Answer with Rerank: Abraham Lincoln was the 16th President of the United States, serving from March 4, 1861 until his assassination in April 1865. He is widely known for his role in preserving the Union during the American Civil War and for his efforts to end slavery. Lincoln was an outspoken opponent of the expansion of slavery and is credited with playing a crucial role in the defeat of the secessionist Confederate States. His leadership during the Civil War has made him one of the most revered and highly ranked U.S. Presidents in history. Lincoln is also remembered for his humble origins, rising from poverty to become a prominent figure in American politics.\n",
      "Answer without Rerank: Abraham Lincoln was the 16th President of the United States, serving from 1861 until his assassination in 1865. He is best known for his leadership during the American Civil War and his efforts to abolish slavery, most notably with the Emancipation Proclamation and his support for the 13th Amendment. Lincoln was an outspoken opponent of slavery and played a crucial role in preserving the Union during a time of great division in the country. His leadership and vision are widely regarded as pivotal in shaping the future of the United States.\n"
     ]
    }
   ],
   "source": [
    "query = \"Who was Abraham Lincoln?\"\n",
    "k = 15\n",
    "\n",
    "query_embedding = pipeline._Pipeline__encode(query)\n",
    "\n",
    "neighbors, _ = pipeline.search_neighbors(query_embedding, k=k)\n",
    "\n",
    "answer_rerank = pipeline.generate_answer(query, neighbors, rerank=True)\n",
    "answer_no_rerank = pipeline.generate_answer(query, neighbors, rerank=False)\n",
    "\n",
    "print(f\"Query: {query}, k: {k}\")\n",
    "print(\"Answer with Rerank:\", answer_rerank)\n",
    "print(\"Answer without Rerank:\", answer_no_rerank)"
   ]
  },
  {
   "cell_type": "code",
   "execution_count": 17,
   "id": "c4df0448",
   "metadata": {},
   "outputs": [
    {
     "name": "stdout",
     "output_type": "stream",
     "text": [
      "Number of vectors in the FAISS index: 1531\n",
      "Query: Who was Abraham Adams?, k: 15\n",
      "Answer with Rerank: Based on the provided context, Abraham Adams is not a real person. The context describes the life and accomplishments of John Adams, the second President of the United States. There is no mention of anyone named Abraham Adams. It's likely that the question was intended to ask about John Adams.\n",
      "Answer without Rerank: The context provided describes the life and accomplishments of John Adams, the second President of the United States. Therefore, the answer to your question \"Who was Abraham Adams?\" is that there is no historical figure named Abraham Adams fitting the context given. The context refers to John Adams, not Abraham Adams.\n"
     ]
    }
   ],
   "source": [
    "query = \"Who was Abraham Adams?\"\n",
    "k = 15\n",
    "\n",
    "query_embedding = pipeline._Pipeline__encode(query)\n",
    "\n",
    "neighbors, _ = pipeline.search_neighbors(query_embedding, k=k)\n",
    "\n",
    "answer_rerank = pipeline.generate_answer(query, neighbors, rerank=True)\n",
    "answer_no_rerank = pipeline.generate_answer(query, neighbors, rerank=False)\n",
    "\n",
    "print(f\"Query: {query}, k: {k}\")\n",
    "print(\"Answer with Rerank:\", answer_rerank)\n",
    "print(\"Answer without Rerank:\", answer_no_rerank)"
   ]
  },
  {
   "cell_type": "code",
   "execution_count": 19,
   "id": "f2c51887",
   "metadata": {},
   "outputs": [
    {
     "name": "stdout",
     "output_type": "stream",
     "text": [
      "Number of vectors in the FAISS index: 1531\n",
      "Query: How did Fillmore ascend to the presidency?, k: 1\n",
      "Answer with Rerank: Millard Fillmore ascended to the presidency in 1850 upon the death of President Zachary Taylor. Fillmore was Taylor's Vice President and assumed the presidency after Taylor's sudden death from a stomach ailment. Fillmore served the remainder of Taylor's term until 1853. He did not win the 1852 presidential election but later ran again in 1856 as the candidate for the American Party, also known as the Know-Nothing Party, in an attempt to secure a non-consecutive second term as President, although he was not successful.\n",
      "Answer without Rerank: Based on the provided context, Millard Fillmore did not ascend to the presidency through the usual means of being elected as Vice President and then succeeding the President. Instead, he ran for a non-consecutive second term as President in the election of 1856 with the American Party, also known as the Know-Nothing Party. This party was known for its anti-immigrant and anti-Catholic stance. Fillmore's attempt to win a second term was unsuccessful, as he lost the election. Therefore, he did not ascend to the presidency through this attempt.\n",
      "Number of vectors in the FAISS index: 1531\n"
     ]
    },
    {
     "ename": "SDKError",
     "evalue": "API error occurred: Status 429\n{\"message\":\"Requests rate limit exceeded\"}",
     "output_type": "error",
     "traceback": [
      "\u001b[0;31m---------------------------------------------------------------------------\u001b[0m",
      "\u001b[0;31mSDKError\u001b[0m                                  Traceback (most recent call last)",
      "Cell \u001b[0;32mIn[19], line 9\u001b[0m\n\u001b[1;32m      6\u001b[0m neighbors, _ \u001b[38;5;241m=\u001b[39m pipeline\u001b[38;5;241m.\u001b[39msearch_neighbors(query_embedding, k\u001b[38;5;241m=\u001b[39mk)\n\u001b[1;32m      8\u001b[0m answer_rerank \u001b[38;5;241m=\u001b[39m pipeline\u001b[38;5;241m.\u001b[39mgenerate_answer(query, neighbors, rerank\u001b[38;5;241m=\u001b[39m\u001b[38;5;28;01mTrue\u001b[39;00m)\n\u001b[0;32m----> 9\u001b[0m answer_no_rerank \u001b[38;5;241m=\u001b[39m pipeline\u001b[38;5;241m.\u001b[39mgenerate_answer(query, neighbors, rerank\u001b[38;5;241m=\u001b[39m\u001b[38;5;28;01mFalse\u001b[39;00m)\n\u001b[1;32m     11\u001b[0m \u001b[38;5;28mprint\u001b[39m(\u001b[38;5;124mf\u001b[39m\u001b[38;5;124m\"\u001b[39m\u001b[38;5;124mQuery: \u001b[39m\u001b[38;5;132;01m{\u001b[39;00mquery\u001b[38;5;132;01m}\u001b[39;00m\u001b[38;5;124m, k: \u001b[39m\u001b[38;5;132;01m{\u001b[39;00mk\u001b[38;5;132;01m}\u001b[39;00m\u001b[38;5;124m\"\u001b[39m)\n\u001b[1;32m     12\u001b[0m \u001b[38;5;28mprint\u001b[39m(\u001b[38;5;124m\"\u001b[39m\u001b[38;5;124mAnswer with Rerank:\u001b[39m\u001b[38;5;124m\"\u001b[39m, answer_rerank)\n",
      "File \u001b[0;32m~/Desktop/AISystemsClassJHU/textwave/pipeline.py:47\u001b[0m, in \u001b[0;36mPipeline.generate_answer\u001b[0;34m(self, query, context, rerank)\u001b[0m\n\u001b[1;32m     40\u001b[0m prompt \u001b[38;5;241m=\u001b[39m \u001b[38;5;124mf\u001b[39m\u001b[38;5;124m\"\u001b[39m\u001b[38;5;124mAnswer the question: \u001b[39m\u001b[38;5;124m'\u001b[39m\u001b[38;5;132;01m{\u001b[39;00mquery\u001b[38;5;132;01m}\u001b[39;00m\u001b[38;5;124m'\u001b[39m\u001b[38;5;124m based on the following context: \u001b[39m\u001b[38;5;132;01m{\u001b[39;00mcombined_context\u001b[38;5;132;01m}\u001b[39;00m\u001b[38;5;124m\"\u001b[39m\n\u001b[1;32m     42\u001b[0m messages \u001b[38;5;241m=\u001b[39m [\n\u001b[1;32m     43\u001b[0m     {\u001b[38;5;124m\"\u001b[39m\u001b[38;5;124mrole\u001b[39m\u001b[38;5;124m\"\u001b[39m: \u001b[38;5;124m\"\u001b[39m\u001b[38;5;124msystem\u001b[39m\u001b[38;5;124m\"\u001b[39m, \u001b[38;5;124m\"\u001b[39m\u001b[38;5;124mcontent\u001b[39m\u001b[38;5;124m\"\u001b[39m: \u001b[38;5;124m\"\u001b[39m\u001b[38;5;124mYou are a helpful assistant.\u001b[39m\u001b[38;5;124m\"\u001b[39m},\n\u001b[1;32m     44\u001b[0m     {\u001b[38;5;124m\"\u001b[39m\u001b[38;5;124mrole\u001b[39m\u001b[38;5;124m\"\u001b[39m: \u001b[38;5;124m\"\u001b[39m\u001b[38;5;124muser\u001b[39m\u001b[38;5;124m\"\u001b[39m, \u001b[38;5;124m\"\u001b[39m\u001b[38;5;124mcontent\u001b[39m\u001b[38;5;124m\"\u001b[39m: prompt}\n\u001b[1;32m     45\u001b[0m ]\n\u001b[0;32m---> 47\u001b[0m response \u001b[38;5;241m=\u001b[39m \u001b[38;5;28mself\u001b[39m\u001b[38;5;241m.\u001b[39mmistral_client\u001b[38;5;241m.\u001b[39mchat\u001b[38;5;241m.\u001b[39mcomplete(\n\u001b[1;32m     48\u001b[0m     model\u001b[38;5;241m=\u001b[39m\u001b[38;5;28mself\u001b[39m\u001b[38;5;241m.\u001b[39mgenerator_model,\n\u001b[1;32m     49\u001b[0m     messages\u001b[38;5;241m=\u001b[39mmessages,\n\u001b[1;32m     50\u001b[0m     temperature\u001b[38;5;241m=\u001b[39m\u001b[38;5;241m0.7\u001b[39m\n\u001b[1;32m     51\u001b[0m )\n\u001b[1;32m     53\u001b[0m \u001b[38;5;66;03m# Extract and return the generated answer\u001b[39;00m\n\u001b[1;32m     54\u001b[0m \u001b[38;5;28;01mreturn\u001b[39;00m response\u001b[38;5;241m.\u001b[39mchoices[\u001b[38;5;241m0\u001b[39m]\u001b[38;5;241m.\u001b[39mmessage\u001b[38;5;241m.\u001b[39mcontent\n",
      "File \u001b[0;32m~/anaconda3/lib/python3.11/site-packages/mistralai/chat.py:138\u001b[0m, in \u001b[0;36mChat.complete\u001b[0;34m(self, model, messages, temperature, top_p, max_tokens, min_tokens, stream, stop, random_seed, response_format, tools, tool_choice, safe_prompt, retries, server_url, timeout_ms)\u001b[0m\n\u001b[1;32m    136\u001b[0m     \u001b[38;5;28;01mraise\u001b[39;00m models\u001b[38;5;241m.\u001b[39mHTTPValidationError(data\u001b[38;5;241m=\u001b[39mdata)\n\u001b[1;32m    137\u001b[0m \u001b[38;5;28;01mif\u001b[39;00m utils\u001b[38;5;241m.\u001b[39mmatch_response(http_res, [\u001b[38;5;124m\"\u001b[39m\u001b[38;5;124m4XX\u001b[39m\u001b[38;5;124m\"\u001b[39m, \u001b[38;5;124m\"\u001b[39m\u001b[38;5;124m5XX\u001b[39m\u001b[38;5;124m\"\u001b[39m], \u001b[38;5;124m\"\u001b[39m\u001b[38;5;124m*\u001b[39m\u001b[38;5;124m\"\u001b[39m):\n\u001b[0;32m--> 138\u001b[0m     \u001b[38;5;28;01mraise\u001b[39;00m models\u001b[38;5;241m.\u001b[39mSDKError(\n\u001b[1;32m    139\u001b[0m         \u001b[38;5;124m\"\u001b[39m\u001b[38;5;124mAPI error occurred\u001b[39m\u001b[38;5;124m\"\u001b[39m, http_res\u001b[38;5;241m.\u001b[39mstatus_code, http_res\u001b[38;5;241m.\u001b[39mtext, http_res\n\u001b[1;32m    140\u001b[0m     )\n\u001b[1;32m    142\u001b[0m content_type \u001b[38;5;241m=\u001b[39m http_res\u001b[38;5;241m.\u001b[39mheaders\u001b[38;5;241m.\u001b[39mget(\u001b[38;5;124m\"\u001b[39m\u001b[38;5;124mContent-Type\u001b[39m\u001b[38;5;124m\"\u001b[39m)\n\u001b[1;32m    143\u001b[0m \u001b[38;5;28;01mraise\u001b[39;00m models\u001b[38;5;241m.\u001b[39mSDKError(\n\u001b[1;32m    144\u001b[0m     \u001b[38;5;124mf\u001b[39m\u001b[38;5;124m\"\u001b[39m\u001b[38;5;124mUnexpected response received (code: \u001b[39m\u001b[38;5;132;01m{\u001b[39;00mhttp_res\u001b[38;5;241m.\u001b[39mstatus_code\u001b[38;5;132;01m}\u001b[39;00m\u001b[38;5;124m, type: \u001b[39m\u001b[38;5;132;01m{\u001b[39;00mcontent_type\u001b[38;5;132;01m}\u001b[39;00m\u001b[38;5;124m)\u001b[39m\u001b[38;5;124m\"\u001b[39m,\n\u001b[1;32m    145\u001b[0m     http_res\u001b[38;5;241m.\u001b[39mstatus_code,\n\u001b[1;32m    146\u001b[0m     http_res\u001b[38;5;241m.\u001b[39mtext,\n\u001b[1;32m    147\u001b[0m     http_res,\n\u001b[1;32m    148\u001b[0m )\n",
      "\u001b[0;31mSDKError\u001b[0m: API error occurred: Status 429\n{\"message\":\"Requests rate limit exceeded\"}"
     ]
    }
   ],
   "source": [
    "query = \"How did Fillmore ascend to the presidency?\"\n",
    "\n",
    "k = 20\n",
    "query_embedding = pipeline._Pipeline__encode(query)\n",
    "\n",
    "neighbors, _ = pipeline.search_neighbors(query_embedding, k=k)\n",
    "\n",
    "answer_rerank = pipeline.generate_answer(query, neighbors, rerank=True)\n",
    "answer_no_rerank = pipeline.generate_answer(query, neighbors, rerank=False)\n",
    "\n",
    "print(f\"Query: {query}, k: {k}\")\n",
    "print(\"Answer with Rerank:\", answer_rerank)\n",
    "print(\"Answer without Rerank:\", answer_no_rerank)"
   ]
  },
  {
   "cell_type": "code",
   "execution_count": null,
   "id": "ba8b76ae",
   "metadata": {},
   "outputs": [],
   "source": []
  },
  {
   "cell_type": "code",
   "execution_count": 20,
   "id": "522d5e1a",
   "metadata": {},
   "outputs": [
    {
     "name": "stdout",
     "output_type": "stream",
     "text": [
      "Number of vectors in the FAISS index: 1531\n",
      "Query: What is the capital of France?, k: 15\n",
      "Answer with Rerank: The capital of France is Paris.\n",
      "Answer without Rerank: The capital of France is Paris. The context you provided mentions Paris multiple times, including Monroe's appointment to France and the Paris Peace talks. It also mentions the Treaty of Versailles, which was signed in Versailles, a suburb of Paris. Therefore, the capital of France is Paris.\n"
     ]
    }
   ],
   "source": [
    "query = \"What is the capital of France?\"\n",
    "k = 15\n",
    "\n",
    "query_embedding = pipeline._Pipeline__encode(query)\n",
    "\n",
    "neighbors, _ = pipeline.search_neighbors(query_embedding, k=k)\n",
    "\n",
    "answer_rerank = pipeline.generate_answer(query, neighbors, rerank=True)\n",
    "answer_no_rerank = pipeline.generate_answer(query, neighbors, rerank=False)\n",
    "\n",
    "print(f\"Query: {query}, k: {k}\")\n",
    "print(\"Answer with Rerank:\", answer_rerank)\n",
    "print(\"Answer without Rerank:\", answer_no_rerank)"
   ]
  },
  {
   "cell_type": "code",
   "execution_count": null,
   "id": "c33e3118",
   "metadata": {},
   "outputs": [],
   "source": []
  }
 ],
 "metadata": {
  "kernelspec": {
   "display_name": "Python 3 (ipykernel)",
   "language": "python",
   "name": "python3"
  },
  "language_info": {
   "codemirror_mode": {
    "name": "ipython",
    "version": 3
   },
   "file_extension": ".py",
   "mimetype": "text/x-python",
   "name": "python",
   "nbconvert_exporter": "python",
   "pygments_lexer": "ipython3",
   "version": "3.11.5"
  }
 },
 "nbformat": 4,
 "nbformat_minor": 5
}
