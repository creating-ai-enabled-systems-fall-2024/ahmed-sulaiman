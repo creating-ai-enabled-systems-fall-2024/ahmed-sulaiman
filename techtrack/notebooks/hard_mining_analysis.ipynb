{
 "cells": [
  {
   "cell_type": "code",
   "execution_count": 1,
   "id": "fad037d3",
   "metadata": {},
   "outputs": [],
   "source": [
    "import sys\n",
    "import os\n",
    "sys.path.append(os.path.abspath('../'))\n",
    "\n",
    "import cv2\n",
    "import matplotlib.pyplot as plt\n",
    "from modules.inference.object_detection import Model\n",
    "import numpy as np"
   ]
  },
  {
   "cell_type": "code",
   "execution_count": 2,
   "id": "580aa1b9",
   "metadata": {},
   "outputs": [],
   "source": [
    "def load_image_and_annotations(logistics_folder):\n",
    "    data = []\n",
    "\n",
    "    for filename in os.listdir(logistics_folder):\n",
    "        if filename.endswith('.jpg'):\n",
    "            image_path = os.path.join(logistics_folder, filename)\n",
    "            annotation_path = os.path.join(logistics_folder, filename.replace('.jpg', '.txt'))\n",
    "\n",
    "            image = cv2.imread(image_path)\n",
    "            \n",
    "            if os.path.exists(annotation_path):\n",
    "                annotations = []\n",
    "                \n",
    "                with open(annotation_path, 'r') as file:\n",
    "                    for line in file:\n",
    "                        annotation = line.strip().split()\n",
    "                        class_id = int(annotation[0])\n",
    "                        x_center = float(annotation[1])\n",
    "                        y_center = float(annotation[2])\n",
    "                        width = float(annotation[3])\n",
    "                        height = float(annotation[4])\n",
    "                        \n",
    "                        annotations.append([class_id, x_center, y_center, width, height])\n",
    "\n",
    "                data.append((image, annotations))\n",
    "    \n",
    "    return data\n",
    "\n",
    "logistics_folder = '../datasets/logistics'\n",
    "data = load_image_and_annotations(logistics_folder)"
   ]
  },
  {
   "cell_type": "code",
   "execution_count": 3,
   "id": "f65e7322",
   "metadata": {},
   "outputs": [],
   "source": [
    "def to_corners(bbox):\n",
    "    x_center, y_center, bbox_width, bbox_height = bbox\n",
    "    x_min = x_center - bbox_width / 2\n",
    "    y_min = y_center - bbox_height / 2\n",
    "    x_max = x_center + bbox_width / 2\n",
    "    y_max = y_center + bbox_height / 2\n",
    "    return x_min, y_min, x_max, y_max\n",
    "\n",
    "def compute_iou(pred_bbox, gt_bbox, img_shape):\n",
    "\n",
    "    height, width = img_shape[:2]\n",
    "    pred_bbox_normalized = [\n",
    "        pred_bbox[0] / width, \n",
    "        pred_bbox[1] / height,\n",
    "        pred_bbox[2] / width, \n",
    "        pred_bbox[3] / height\n",
    "    ]\n",
    "\n",
    "    pred_xmin, pred_ymin, pred_xmax, pred_ymax = to_corners(pred_bbox_normalized)\n",
    "    gt_xmin, gt_ymin, gt_xmax, gt_ymax = to_corners(gt_bbox)\n",
    "    \n",
    "    x_inter_min = max(pred_xmin, gt_xmin)\n",
    "    y_inter_min = max(pred_ymin, gt_ymin)\n",
    "    x_inter_max = min(pred_xmax, gt_xmax)\n",
    "    y_inter_max = min(pred_ymax, gt_ymax)\n",
    "\n",
    "    inter_area = max(0, x_inter_max - x_inter_min) * max(0, y_inter_max - y_inter_min)\n",
    "\n",
    "    pred_area = (pred_xmax - pred_xmin) * (pred_ymax - pred_ymin)\n",
    "    gt_area = (gt_xmax - gt_xmin) * (gt_ymax - gt_ymin)\n",
    "\n",
    "    union_area = pred_area + gt_area - inter_area\n",
    "\n",
    "    iou = inter_area / union_area if union_area != 0 else 0\n",
    "\n",
    "    return iou"
   ]
  },
  {
   "cell_type": "code",
   "execution_count": 4,
   "id": "ebdaa64f",
   "metadata": {},
   "outputs": [],
   "source": [
    "def calculate_losses(images_and_annotations, model):\n",
    "    losses = []\n",
    "\n",
    "    for image, annotations in images_and_annotations:\n",
    "        predictions = model.predict(image)\n",
    "        processed_predictions = model.post_process(image, predictions, score_threshold=0.5)\n",
    "\n",
    "        image_loss = 0\n",
    "        num_boxes = min(len(processed_predictions[0]), len(annotations))\n",
    "\n",
    "        for i in range(num_boxes):\n",
    "            pred_bbox = processed_predictions[0][i]\n",
    "            ann_bbox = annotations[i][1:]\n",
    "\n",
    "            iou = compute_iou(pred_bbox, ann_bbox, img_shape=image.shape)\n",
    "            loss = 1 - iou\n",
    "            image_loss += loss\n",
    "\n",
    "        if num_boxes > 0:\n",
    "            image_loss /= num_boxes\n",
    "        losses.append(image_loss)\n",
    "\n",
    "    return losses"
   ]
  },
  {
   "cell_type": "code",
   "execution_count": 5,
   "id": "d27e7278",
   "metadata": {},
   "outputs": [],
   "source": [
    "model = Model(weights_path='../datasets/yolo_model_2/yolov4-tiny-logistics_size_416_2.weights', \n",
    "              config_path='../datasets/yolo_model_2/yolov4-tiny-logistics_size_416_2.cfg', \n",
    "              class_names_path='../datasets/yolo_model_1/logistics.names')"
   ]
  },
  {
   "cell_type": "code",
   "execution_count": 6,
   "id": "35a56747",
   "metadata": {},
   "outputs": [
    {
     "data": {
      "image/png": "[encoded data removed]",
      "text/plain": [
       "<Figure size 1000x600 with 1 Axes>"
      ]
     },
     "metadata": {},
     "output_type": "display_data"
    }
   ],
   "source": [
    "losses = calculate_losses(data, model)\n",
    "\n",
    "plt.figure(figsize=(10, 6))\n",
    "plt.hist(losses, bins=20, color='blue', alpha=0.7)\n",
    "plt.title('Loss Distribution (1 - IoU)')\n",
    "plt.xlabel('Loss (1 - IoU)')\n",
    "plt.ylabel('Frequency')\n",
    "plt.show()"
   ]
  },
  {
   "cell_type": "markdown",
   "id": "a883ea7b",
   "metadata": {},
   "source": [
    "The loss distribution graph shows a clear distinction between easy and hard samples for the model. On one hand, a significant number of samples show loss = 0, which means the model perfectly predicts the bounding boxes for these images (IoU = 1). On the other hand, a large number of samples have a loss close to 1 (IoU ≈ 0), indicating the model struggles significantly with these predictions.\n",
    "\n",
    "### Hard Samples for the Model:\n",
    "The samples where the model performs poorly (high loss) tend to exhibit characteristics that make object detection difficult:\n",
    "\n",
    " - Occlusions: When objects are partially obscured by other objects or elements in the scene, the model may misidentify or miss them entirely, leading to bounding boxes that poorly overlap with the ground truth.\n",
    "- Complex Backgrounds: If the object blends into a background with significant visual noise or clutter, the model might struggle to separate the object from the background, resulting in inaccurate bounding boxes.\n",
    "- Small Objects: For smaller objects in an image, even minor inaccuracies in the predicted bounding box can significantly reduce IoU. The model may miss these objects entirely or predict bounding boxes that do not accurately localize them.\n",
    "- Edge Cases: Objects that appear at the edges or corners of the image may be partially cropped, making them harder to detect or localize, which results in poor predictions.\n",
    "\n",
    "These hard samples indicate that the model struggles to generalize to complex or challenging scenarios where object boundaries are not clear or the object is less prominent.\n",
    "\n",
    "### Parameters Impacting Model Behavior:\n",
    "The performance of the model and the distribution of the loss are heavily influenced by certain parameters:\n",
    "\n",
    "- Confidence Threshold: The threshold used to filter predictions based on confidence scores significantly impacts the results. A lower threshold may include more false positives (incorrect or low-confidence predictions), increasing the number of high-loss samples. On the other hand, a higher threshold may eliminate lower-confidence predictions but also reduce recall by filtering out valid, albeit uncertain, predictions.\n",
    "- IoU Threshold for Non-Maximum Suppression (NMS): This threshold controls how overlapping bounding boxes are handled. A lower NMS threshold might suppress too many boxes, leading to fewer predictions but also causing the model to miss overlapping objects. A higher threshold could allow too many boxes for the same object, decreasing the overall IoU for some samples.\n",
    "- Object Size: Larger objects tend to be easier to detect, and small misalignments in bounding boxes result in smaller IoU drops. However, for smaller objects, even a slight deviation in the predicted bounding box can lead to a significant drop in IoU, which makes these samples particularly challenging.\n",
    "- Model Training and Augmentation: The robustness of the model depends on how well it has been trained across diverse scenarios. If the model was trained primarily on well-lit or large objects, it may perform poorly on smaller objects, occlusions, or more complex scenarios. Similarly, a lack of adequate data augmentation during training (such as varying lighting conditions, object sizes, or rotations) can make the model less adaptable to real-world variations, leading to higher losses on test images."
   ]
  },
  {
   "cell_type": "code",
   "execution_count": null,
   "id": "6e8f2ad0",
   "metadata": {},
   "outputs": [],
   "source": []
  }
 ],
 "metadata": {
  "kernelspec": {
   "display_name": "Python 3 (ipykernel)",
   "language": "python",
   "name": "python3"
  },
  "language_info": {
   "codemirror_mode": {
    "name": "ipython",
    "version": 3
   },
   "file_extension": ".py",
   "mimetype": "text/x-python",
   "name": "python",
   "nbconvert_exporter": "python",
   "pygments_lexer": "ipython3",
   "version": "3.11.5"
  }
 },
 "nbformat": 4,
 "nbformat_minor": 5
}
